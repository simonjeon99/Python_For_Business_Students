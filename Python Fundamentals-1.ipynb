{
 "cells": [
  {
   "cell_type": "markdown",
   "metadata": {
<<<<<<< HEAD
=======
    "tags": [],
    "toc-hr-collapsed": true,
>>>>>>> ab5dca9a821e0bbc12772479f782d0cbcbcdec45
    "toc-nb-collapsed": true
   },
   "source": [
    "# Python Fundamentals\n",
    "\n",
    "Prepared by:**Gregory** J. Bott, Ph.D.\n",
    "(Sources: Dr. Nick Freeman, Python for Everyone, Charles Severance; A Whirlwind Tour of Python, Jake Vanderplas)"
   ]
  },
  {
   "cell_type": "markdown",
   "metadata": {},
   "source": [
    "## Why should a business student learn Python?\n",
    "\n",
    "Information is the lifeblood of <del>nearly</del> every organization. The purpose of this notebook is the help business students master the fundamental concepts and skills required to effectively use Python. Python skills are in high demand. One reason for this demand is Python's ability to efficiently acquire, manipulate, analyze and visual data. However, prior to performing data analytic tasks, business students must learn the fundamentals."
   ]
  },
  {
   "cell_type": "markdown",
   "metadata": {
    "jp-MarkdownHeadingCollapsed": true,
    "tags": []
   },
   "source": [
    "## Data Analysis is Part of *Every* Job\n",
    "It's not just data scientists or data analytics that need analysis skills. Nearly every job intersects with data. It's highly likely that even if your job doesn't have \"analyst\" or \"scientst\" in the title, you'll still benefit from understanding how to acquire, handle, manipulate, and report data.\n",
    "\n",
    "> ### Deloitte: \"...skills that were highly appreciated in Deloitte and projects were Java, Python/R...\"\n"
   ]
  },
  {
   "cell_type": "markdown",
   "metadata": {},
   "source": [
    "## Python skills are in high demand\n",
    "\n",
    "2021 Developer Survey by StackOverflow\n",
    "\n",
    "![](./images/MostWantedLanguages.jpg)\n",
    "\n",
    "TODO: Add Github stats showing Python as /#3 overall."
   ]
  },
  {
   "cell_type": "markdown",
   "metadata": {
    "toc-hr-collapsed": false
   },
   "source": [
    "## Programming Teaches Problem solving\n",
    "\n",
    "The ability to think critically and solve problems is a general life skill. Proble solving applies to the all facets of life. In this course you'll learn Python syntax and structures, but more importantly you'll learn to abstract a problem and code a solution. "
   ]
  },
  {
   "cell_type": "markdown",
   "metadata": {},
   "source": [
    "## Python is the new Excel\n",
    "Business rightly assume that you have solid Excel skills. However, the new expectation is that you already possess the skills necessary to handle data acquisition, analysis, and visualization. And alothough this can arguably still be done in Excel, Python's tools and libraries are exponentially more efficient. \n",
    "\n",
    "Python is the new Excel. (see https://www.fincad.com/blog/python-new-excel)"
   ]
  },
  {
   "cell_type": "markdown",
   "metadata": {
    "toc-hr-collapsed": false
   },
   "source": [
    "## About the Python language\n",
    "(Sources: Wikipedia, Dr. Nickolas K. Freeman)\n",
    "\n",
    ">Python is an interpreted high-level programming language for general-purpose programming. Created by Guido van Rossum and first released in 1991, Python has a design philosophy that emphasizes code readability, and a syntax that allows programmers to express concepts in fewer lines of code, notably using significant whitespace. It provides constructs that enable clear programming on both small and large scales.\n",
    "\n",
    ">Python is a multi-paradigm programming language. Object-oriented programming and structured programming are fully supported, and many of its features support functional programming and aspect-oriented programming (including by metaprogramming and metaobjects (magic methods)). Many other paradigms are supported via extensions, including design by contract and logic programming.\n",
    "\n",
    ">The language's core philosophy is summarized in the document The Zen of Python (PEP 20), which includes aphorisms such as:\n",
    "\n",
    "> - Beautiful is better than ugly\n",
    "> - Explicit is better than implicit\n",
    "> - Simple is better than complex\n",
    "> - Complex is better than complicated\n",
    "> - Readability counts\n",
    "\n",
    "> Rather than having all of its functionality built into its core, Python was designed to be highly extensible. This compact modularity has made it particularly popular as a means of adding programmable interfaces to existing applications. Van Rossum's vision of a small core language with a large standard library and easily extensible interpreter stemmed from his frustrations with ABC, another programming language that espoused the opposite approach.\n",
    "\n",
    "> While offering choice in coding methodology, the Python philosophy rejects exuberant syntax (such as that of Perl) in favor of a simpler, less-cluttered grammar. As Alex Martelli put it: \"To describe something as 'clever' is not considered a compliment in the Python culture.\" Python's philosophy rejects the Perl \"there is more than one way to do it\" approach to language design in favor of \"there should be one—and preferably only one—obvious way to do it\".\n",
    "\n",
    ">Python's developers strive to avoid premature optimization, and reject patches to non-critical parts of CPython that would offer marginal increases in speed at the cost of clarity. When speed is important, a Python programmer can move time-critical functions to extension modules written in languages such as C, or use PyPy, a just-in-time compiler. Cython is also available, which translates a Python script into C and makes direct C-level API calls into the Python interpreter.\n",
    "\n",
    ">An important goal of Python's developers is keeping it fun to use. This is reflected in the language's name—a tribute to the British comedy group Monty Python—and in occasionally playful approaches to tutorials and reference materials, such as examples that refer to spam and eggs (from a famous Monty Python sketch) instead of the standard foo and bar.\n",
    "\n",
    ">A common neologism in the Python community is *pythonic*, which can have a wide range of meanings related to program style. To say that code is pythonic is to say that it uses Python idioms well, that it is natural or shows fluency in the language, that it conforms with Python's minimalist philosophy and emphasis on readability. In contrast, code that is difficult to understand or reads like a rough transcription from another programming language is called unpythonic.\n",
    "\n",
    ">Users and admirers of Python, especially those considered knowledgeable or experienced, are often referred to as Pythonists, Pythonistas, and Pythoneers\n",
    "# What is a Program?\n",
    "\n",
    "> ## A program is a sequence of instructions that specified how to perform a computation. \n",
    "\n",
    "## Building Blocks of Nearly Every Language\n",
    "* **input** - get data--from user via keyboard, from sensors, from other programs, from databases, etc.\n",
    "* **output** - display results in the console on the screen, on paper, to another program, a web page, etc.\n",
    "* **math** - perform mathematical operations (addition, multiplication, etc.)\n",
    "* **conditional execution** - check for certain values or states and run the appropriate code\n",
    "* **repetition** - repeatedly perform some action a certain number of times"
   ]
  },
  {
   "cell_type": "markdown",
   "metadata": {},
   "source": [
    "### Python is interpreted, not compiled.\n",
    "Programming languages generally fall into one of two categories: Compiled or Interpreted. With a compiled language, code you enter is reduced to a set of machine-specific instructions before being saved as an executable file. With interpreted languages, the code is saved in the same format that you entered. Compiled programs generally run faster than interpreted ones because interpreted programs must be reduced to machine instructions at runtime. However, with an interpreted language you can do things that cannot be done in a compiled language. For example, interpreted programs can modify themselves by adding or changing functions at runtime. It is also usually easier to develop applications in an interpreted environment because you don't have to recompile your application each time you want to test a small section. (source: http://www.vanguardsw.com/dphelp4/dph00296.htm)\n",
    "<br>\n",
    "\n",
    "![image](images/python_interpreted.png)\n"
   ]
  },
  {
   "cell_type": "markdown",
   "metadata": {
    "tags": [],
    "toc-hr-collapsed": true,
    "toc-nb-collapsed": true
   },
   "source": [
    "# Setting Up Your Environment and Getting Started\n",
    "<a id=\"Setting_up_your_environment\"> </a>\n",
    "\n"
   ]
  },
  {
   "cell_type": "markdown",
   "metadata": {},
   "source": [
    "## Installing Anaconda\n",
    "Anaconda is a free and open-source distribution of the Python and R programming languages for scientific computing that aims to simplify package management and deployment. Package versions are managed by the package management system conda. (source: Wikipedia) The Spyder IDE is one of packages included in Anaconda.\n",
    "\n",
    "**Miniconda** provides the Python interpreter and the conda package manager. If you don't want the preinstalled packages that come with Anaconda, you can install Miniconda and install the packages you want yourself.\n"
   ]
  },
  {
   "cell_type": "markdown",
   "metadata": {},
   "source": [
    "## Starting Jupyter Lab\n",
    "\n",
    "If you wish to control the starting folder (home folder) of Jupyter Lab, then following these instructions.\n",
    "\n",
    "1. Open Anaconda Prompt\n",
    "2. Navigate to starting folder (e.g., cd G:).\n",
    "3. Type ```jupyter lab``` and press ENTER\n",
    "    * The Home Folder is the starting folder of the Anaconda prompt."
   ]
  },
  {
   "cell_type": "markdown",
   "metadata": {},
   "source": [
    "## Choosing a Python IDE\n",
    "\n",
    "### Jupyter Notebook and Jupyter Lab\n",
    "Jupyer Notebook and Lab are the best IDEs for learning and documenting Python code. They are also a solid method to provide Python code and results to non-Python programmers. We will make extensive use of Jupyter Lab in this course.\n",
    "\n",
    "### Spyder\n",
    "Spyder is a simple IDE that is useful for learning Python. It is included with the install of Anaconda and supported in this course. You may find Spyder the best choice for completing assignments. If an automatic grading environment is being used, you may find it faster to write, debug, and test code in Spyder and then paste it into the automatic grading environment.\n",
    "\n",
    "### VS Code\n",
    "Visual Studio Code is also available with Anaconda, though it is not installed by default. VS Code is perhaps the best overall choice for an IDE, however, Spyder offers a more straightforward initial user experience for the beginner. \n",
    "\n",
    "### Sublime Text\n",
    "A highly functional and extensible text editor often used by Pythonistas.\n",
    "\n",
    "### PyCharm\n",
    "If you would like an IDE with a deep feature set, Pycharm is a good choice. They offer special licensing for academia.\n",
    "\n",
    "You are welcome to use any of these IDEs for this class. You are also welcome to use a different IDE, but we cannot support all IDEs, so if you choose an IDE besides these two, we'll give you best effort support, but you may be on your own making a different IDE work."
   ]
  },
  {
   "cell_type": "markdown",
   "metadata": {},
   "source": [
    "## Notebook Basics\n",
    "\n",
    "As with any tool in your professional arsenal, you should be intimately acquainted with the IDE (Jupyter Lab in our case) features and functions.\n",
    "\n",
    "Some of the Jupyter Lab concepts with which you should be familiar include:\n",
    "* Command vs edit mode within a notebook\n",
    "* Differences between cell types\n",
    "* The selection and role of the kernel, restarting the kernel\n",
    "* Running a cell, an entire notebook, or a group of cells\n",
    "* Navigating, cuting, pasting, joining and separating cells\n",
    "* Common notebook keyboard shortcuts (creating, deleting, cut/copy/paste, join, split, show line numbers, etc.)\n",
    "* Locating the notebook in the file system and accessing data from the file system\n",
    "* Clear one cell output, clear all output\n",
    "* Use a console within a notebook\n",
    "* Check for package and version using console and grep"
   ]
  },
  {
   "cell_type": "markdown",
   "metadata": {},
   "source": [
    "## Python Coding basics\n"
   ]
  },
  {
   "cell_type": "markdown",
   "metadata": {},
   "source": [
    "### Python is case-sensitive\n",
    "Most components in Python are case-sensitive (e.g., statements, variable names, file names, etc.). Windows is generally case-insensitive."
   ]
  },
  {
   "cell_type": "code",
   "execution_count": 2,
   "metadata": {},
   "outputs": [
    {
     "name": "stdout",
     "output_type": "stream",
     "text": [
      "1\n"
     ]
    },
    {
     "ename": "NameError",
     "evalue": "name 'myvar' is not defined",
     "output_type": "error",
     "traceback": [
      "\u001b[1;31m---------------------------------------------------------------------------\u001b[0m",
      "\u001b[1;31mNameError\u001b[0m                                 Traceback (most recent call last)",
      "\u001b[1;32m<ipython-input-2-4c6fde38b95c>\u001b[0m in \u001b[0;36m<module>\u001b[1;34m\u001b[0m\n\u001b[0;32m      2\u001b[0m \u001b[0mMyVar\u001b[0m \u001b[1;33m=\u001b[0m \u001b[1;36m1\u001b[0m\u001b[1;33m\u001b[0m\u001b[1;33m\u001b[0m\u001b[0m\n\u001b[0;32m      3\u001b[0m \u001b[0mprint\u001b[0m\u001b[1;33m(\u001b[0m\u001b[0mMyVar\u001b[0m\u001b[1;33m)\u001b[0m\u001b[1;33m\u001b[0m\u001b[1;33m\u001b[0m\u001b[0m\n\u001b[1;32m----> 4\u001b[1;33m \u001b[0mprint\u001b[0m\u001b[1;33m(\u001b[0m\u001b[0mmyvar\u001b[0m\u001b[1;33m)\u001b[0m\u001b[1;33m\u001b[0m\u001b[1;33m\u001b[0m\u001b[0m\n\u001b[0m",
      "\u001b[1;31mNameError\u001b[0m: name 'myvar' is not defined"
     ]
    }
   ],
   "source": [
    "# ERROR: 'myvar' is not defined (case problem)\n",
    "MyVar = 1\n",
    "print(MyVar)\n",
    "print(myvar)"
   ]
  },
  {
   "cell_type": "markdown",
   "metadata": {},
   "source": [
    "### Use proper indentation\n",
    "White space in many languages has little or no meaning. However, using Python, improper indentation will generate a syntax error:"
   ]
  },
  {
   "cell_type": "code",
   "execution_count": 7,
   "metadata": {},
   "outputs": [
    {
     "name": "stdout",
     "output_type": "stream",
     "text": [
      "4 is greater than 1\n",
      "hi\n"
     ]
    }
   ],
   "source": [
    "# Error: statements following an if statement must be indented.\n",
    "if 4 > 1:\n",
    "    print(\"4 is greater than 1\")\n",
    "    print(\"hi\")"
   ]
  },
  {
   "cell_type": "markdown",
   "metadata": {},
   "source": [
    "### Comment your code\n",
    "\n",
    "Make a habit of clearly commenting your code...even if the purpose of the code seems obvious. Even for code you have written yourself, it is often difficult to remember why you chose to implement something in a specific way. \n",
    "\n",
    "Start a comment using the hash (#) symbol "
   ]
  },
  {
   "cell_type": "markdown",
   "metadata": {},
   "source": [
    "### Printing values\n",
    "You will often print output. The print() function is versatile."
   ]
  },
  {
   "cell_type": "code",
   "execution_count": 18,
   "metadata": {},
   "outputs": [
    {
     "name": "stdout",
     "output_type": "stream",
     "text": [
      "Hello, world!\n",
      "North South East West\n",
      "North--South--East--West\n",
      "This is the first line. Also on same line.\n",
      "apple\n",
      "fuit: apple\n"
     ]
    }
   ],
   "source": [
    "# Basic usage\n",
    "print(\"Hello, world!\")\n",
    "\n",
    "# Print items separated by commas (default separator is a space ' ')\n",
    "print('North','South','East','West')\n",
    "\n",
    "# You can specify the seprator\n",
    "print('North','South','East','West', sep='--')\n",
    "\n",
    "# Default end is a new line (\\n), you may change that also\n",
    "print(\"This is the first line. \", end='')\n",
    "print(\"Also on same line.\")\n",
    "\n",
    "# Print variable and concatenate\n",
    "x = 'apple'\n",
    "print(x)\n",
    "print('fuit: ' + x)"
   ]
  },
  {
   "cell_type": "markdown",
   "metadata": {
    "tags": [],
    "toc-nb-collapsed": true
   },
   "source": [
    "# Variables, Expressions, and Types\n",
    "\n",
    "Python is a *dynamically typed* language. A programming language is said to be dynamically typed, or just 'dynamic', when the majority of its type checking is performed at run-time as opposed to at compile-time.\n",
    "\n",
    "Python is also *strongly typed* as the interpreter keeps track of all variables types. Again, it's also very dynamic as it rarely uses what it knows to limit variable usage. In Python, it's the program's responsibility to use built-in functions like isinstance() and issubclass() to test variable types and correct usage. Python tries to stay out of your way while giving you all you need to implement strong type checking.\n",
    "\n",
    "The difference between a strongly typed language and a weakly typed language is basically that a strongly typed language checks the type of a variable before performing an operation on it, whereas a weakly typed language does not.\n",
    "[Source: Wiki.Python.org](https://wiki.python.org/moin/Why%20is%20Python%20a%20dynamic%20language%20and%20also%20a%20strongly%20typed%20language)"
   ]
  },
  {
   "cell_type": "code",
   "execution_count": 8,
   "metadata": {},
   "outputs": [
    {
     "name": "stdout",
     "output_type": "stream",
     "text": [
      "3.141 <class 'float'>\n"
     ]
    }
   ],
   "source": [
    "#Store a float in the variable a\n",
    "a = 3.141\n",
    "print(a, type(a))"
   ]
  },
  {
   "cell_type": "code",
   "execution_count": 5,
   "metadata": {},
   "outputs": [
    {
     "name": "stdout",
     "output_type": "stream",
     "text": [
      "['apple', 3.141, 'banana'] <class 'list'>\n"
     ]
    }
   ],
   "source": [
    "#Store a list in a\n",
    "a = [\"apple\", 3.141, \"banana\"]\n",
    "print(a, type(a))"
   ]
  },
  {
   "cell_type": "code",
   "execution_count": null,
   "metadata": {},
   "outputs": [],
   "source": [
    "#Store a string in a\n",
    "a = \"apple\"\n",
    "print(a, type(a))"
   ]
  },
  {
   "cell_type": "markdown",
   "metadata": {
    "toc-hr-collapsed": true,
    "toc-nb-collapsed": true
   },
   "source": [
    "## Variables in Python\n",
    "Variables store values. Variable names can be as long as you want, can contain letters and numbers, but must not begin with a number or be a Python keyword (e.g., true, for, from, lambda).\n",
    "\n",
    "> **Python is case-sensitive.** unit_cost is not the same as Unit_cost. \n",
    "\n",
    "By convention variable names are lower case and use the underscore character to separate words. \n",
    "\n",
    "earnings_after_tax <br>\n",
    "default_gateway"
   ]
  },
  {
   "cell_type": "code",
   "execution_count": 12,
   "metadata": {},
   "outputs": [
    {
     "ename": "NameError",
     "evalue": "name 'fruit' is not defined",
     "output_type": "error",
     "traceback": [
      "\u001b[0;31m---------------------------------------------------------------------------\u001b[0m",
      "\u001b[0;31mNameError\u001b[0m                                 Traceback (most recent call last)",
      "\u001b[0;32m<ipython-input-12-b8b498e61bb1>\u001b[0m in \u001b[0;36m<module>\u001b[0;34m\u001b[0m\n\u001b[1;32m      1\u001b[0m \u001b[0;31m# Variables are case-sensitive --> Error\u001b[0m\u001b[0;34m\u001b[0m\u001b[0;34m\u001b[0m\u001b[0;34m\u001b[0m\u001b[0m\n\u001b[1;32m      2\u001b[0m \u001b[0mFruit\u001b[0m \u001b[0;34m=\u001b[0m \u001b[0;34m\"apple\"\u001b[0m\u001b[0;34m\u001b[0m\u001b[0;34m\u001b[0m\u001b[0m\n\u001b[0;32m----> 3\u001b[0;31m \u001b[0mprint\u001b[0m\u001b[0;34m(\u001b[0m\u001b[0mfruit\u001b[0m\u001b[0;34m)\u001b[0m\u001b[0;34m\u001b[0m\u001b[0;34m\u001b[0m\u001b[0m\n\u001b[0m",
      "\u001b[0;31mNameError\u001b[0m: name 'fruit' is not defined"
     ]
    }
   ],
   "source": [
    "# Variables are case-sensitive --> Error\n",
    "Fruit = \"apple\"\n",
    "print(fruit)"
   ]
  },
  {
   "cell_type": "code",
   "execution_count": 13,
   "metadata": {},
   "outputs": [
    {
     "ename": "SyntaxError",
     "evalue": "invalid syntax (<ipython-input-13-563647a99aea>, line 2)",
     "output_type": "error",
     "traceback": [
      "\u001b[0;36m  File \u001b[0;32m\"<ipython-input-13-563647a99aea>\"\u001b[0;36m, line \u001b[0;32m2\u001b[0m\n\u001b[0;31m    76trombones = 0\u001b[0m\n\u001b[0m      ^\u001b[0m\n\u001b[0;31mSyntaxError\u001b[0m\u001b[0;31m:\u001b[0m invalid syntax\n"
     ]
    }
   ],
   "source": [
    "# illegal -- must not start with a number\n",
    "76trombones = 0"
   ]
  },
  {
   "cell_type": "code",
   "execution_count": 14,
   "metadata": {},
   "outputs": [],
   "source": [
    "although_difficult_to_use_this_is_a_valid_variable = 1"
   ]
  },
  {
   "cell_type": "markdown",
   "metadata": {
    "toc-hr-collapsed": true,
    "toc-nb-collapsed": true
   },
   "source": [
    "## Using Variables to Store User Input\n",
    "\n",
    "Use variables to store input from users. To get input from the user Python provides a built-in function **input** that captures input from keyboard as a string."
   ]
  },
  {
   "cell_type": "code",
   "execution_count": 23,
   "metadata": {},
   "outputs": [
    {
     "name": "stdout",
     "output_type": "stream",
     "text": [
      "Card total? 22\n",
      "CardTotal type is: 22.\n"
     ]
    }
   ],
   "source": [
    "# Get card total from user and store in CardTotal \n",
    "card_total = input(\"Card total?\")\n",
    "print(f\"CardTotal type is: {card_total}.\")"
   ]
  },
  {
   "cell_type": "markdown",
   "metadata": {},
   "source": [
    "### input() function\n",
    "Used to get data from the user. Always returns a string, so you must cast if you are working with numbers."
   ]
  },
  {
   "cell_type": "code",
   "execution_count": 24,
   "metadata": {},
   "outputs": [
    {
     "data": {
      "text/plain": [
       "str"
      ]
     },
     "execution_count": 24,
     "metadata": {},
     "output_type": "execute_result"
    }
   ],
   "source": [
    "type(card_total)"
   ]
  },
  {
   "cell_type": "code",
   "execution_count": 25,
   "metadata": {},
   "outputs": [
    {
     "ename": "TypeError",
     "evalue": "'>' not supported between instances of 'str' and 'int'",
     "output_type": "error",
     "traceback": [
      "\u001b[0;31m---------------------------------------------------------------------------\u001b[0m",
      "\u001b[0;31mTypeError\u001b[0m                                 Traceback (most recent call last)",
      "\u001b[0;32m<ipython-input-25-9cc9558f4309>\u001b[0m in \u001b[0;36m<module>\u001b[0;34m\u001b[0m\n\u001b[1;32m      1\u001b[0m \u001b[0;31m# Error -- CardTotal is str\u001b[0m\u001b[0;34m\u001b[0m\u001b[0;34m\u001b[0m\u001b[0;34m\u001b[0m\u001b[0m\n\u001b[0;32m----> 2\u001b[0;31m \u001b[0;32mif\u001b[0m \u001b[0mcard_total\u001b[0m \u001b[0;34m>\u001b[0m \u001b[0;36m21\u001b[0m\u001b[0;34m:\u001b[0m\u001b[0;34m\u001b[0m\u001b[0;34m\u001b[0m\u001b[0m\n\u001b[0m\u001b[1;32m      3\u001b[0m     \u001b[0mprint\u001b[0m\u001b[0;34m(\u001b[0m\u001b[0;34m\"Busted\"\u001b[0m\u001b[0;34m)\u001b[0m\u001b[0;34m\u001b[0m\u001b[0;34m\u001b[0m\u001b[0m\n\u001b[1;32m      4\u001b[0m \u001b[0;32melse\u001b[0m\u001b[0;34m:\u001b[0m\u001b[0;34m\u001b[0m\u001b[0;34m\u001b[0m\u001b[0m\n\u001b[1;32m      5\u001b[0m     \u001b[0mprint\u001b[0m\u001b[0;34m(\u001b[0m\u001b[0;34m\"Hit me\"\u001b[0m\u001b[0;34m)\u001b[0m\u001b[0;34m\u001b[0m\u001b[0;34m\u001b[0m\u001b[0m\n",
      "\u001b[0;31mTypeError\u001b[0m: '>' not supported between instances of 'str' and 'int'"
     ]
    }
   ],
   "source": [
    "# Error -- CardTotal is str\n",
    "if card_total > 21:\n",
    "    print(\"Busted\")\n",
    "else:\n",
    "    print(\"Hit me\")"
   ]
  },
  {
   "cell_type": "markdown",
   "metadata": {},
   "source": [
    "### Comparison operators\n",
    "\n",
    "You are probably already familiar with the comparison operators.\n",
    "* x and y are variable names\n",
    "```Python\n",
    "x > y\n",
    "x >= y\n",
    "x < y\n",
    "x <= y\n",
    "x == y # Use double-equal to test for equality (single equal sign is for assignment), True if x is same as y\n",
    "x != y # test for inequality, True if x is different than y\n",
    "```"
   ]
  },
  {
   "cell_type": "code",
   "execution_count": 26,
   "metadata": {},
   "outputs": [
    {
     "name": "stdout",
     "output_type": "stream",
     "text": [
      "Busted\n"
     ]
    }
   ],
   "source": [
    "# Must cast to appropriate value type (int)\n",
    "if int(card_total) > 21:\n",
    "    print(\"Busted\")\n",
    "else:\n",
    "    print(\"Hit me\")"
   ]
  },
  {
   "cell_type": "code",
   "execution_count": 29,
   "metadata": {},
   "outputs": [
    {
     "name": "stdout",
     "output_type": "stream",
     "text": [
      "Hello||how are you?||22\n"
     ]
    }
   ],
   "source": [
    "print(\"Hello\", \"how are you?\", card_total, sep=\"||\") "
   ]
  },
  {
   "cell_type": "markdown",
   "metadata": {
    "toc-hr-collapsed": true,
    "toc-nb-collapsed": true
   },
   "source": [
    "## Basic Data Types in Python\n",
    "\n",
    "### Integers\n",
    "---\n",
    "A number with no fractional part. \n",
    "\n",
    "![image](./images/int-number-line.svg)\n",
    "\n",
    "#### Includes: \n",
    "* the counting numbers {1, 2, 3, ...}, \n",
    "* zero {0}, \n",
    "* and the negative of the counting numbers {-1, -2, -3, ...}\n",
    "\n",
    "We can write them all down like this: {..., -3, -2, -1, 0, 1, 2, 3, ...}\n",
    "\n",
    "Examples of integers: -16, -3, 0, 1, 198\n",
    "\n",
    "Integer size is limited only by your machine."
   ]
  },
  {
   "cell_type": "code",
   "execution_count": 30,
   "metadata": {},
   "outputs": [
    {
     "name": "stdout",
     "output_type": "stream",
     "text": [
      "1234568901234568901234568901234568901234564568901234568901234568901234568901234568901234568901234568901\n",
      "<class 'int'>\n"
     ]
    }
   ],
   "source": [
    "bigInt = 1234568901234568901234568901234568901234564568901234568901234568901234568901234568901234568901234568900\n",
    "\n",
    "print(bigInt + 1)\n",
    "\n",
    "print(type(bigInt))"
   ]
  },
  {
   "cell_type": "markdown",
   "metadata": {},
   "source": [
    "### Float type\n",
    "* Platform dependent\n",
    "* Typically equivalent to IEEE754 64-bit C double\n",
    "* Smallest float is effectively 2.225 x 10^-308"
   ]
  },
  {
   "cell_type": "code",
   "execution_count": 31,
   "metadata": {},
   "outputs": [
    {
     "data": {
      "text/plain": [
       "float"
      ]
     },
     "execution_count": 31,
     "metadata": {},
     "output_type": "execute_result"
    }
   ],
   "source": [
    "type(1.0)"
   ]
  },
  {
   "cell_type": "code",
   "execution_count": 32,
   "metadata": {},
   "outputs": [
    {
     "name": "stdout",
     "output_type": "stream",
     "text": [
      "b = 2 and is type <class 'int'>\n"
     ]
    }
   ],
   "source": [
    "b = 2\n",
    "\n",
    "print(\"b = {} and is type {}\".format(b, type(b)))"
   ]
  },
  {
   "cell_type": "code",
   "execution_count": 33,
   "metadata": {},
   "outputs": [
    {
     "name": "stdout",
     "output_type": "stream",
     "text": [
      "b = 2.2 and is type <class 'float'>\n"
     ]
    }
   ],
   "source": [
    "b = 2 * 1.1\n",
    "\n",
    "print(\"b = {} and is type {}\".format(b, type(b)))"
   ]
  },
  {
   "cell_type": "markdown",
   "metadata": {},
   "source": [
    "### Boolean type\n",
    "---"
   ]
  },
  {
   "cell_type": "code",
   "execution_count": 35,
   "metadata": {},
   "outputs": [
    {
     "data": {
      "text/plain": [
       "False"
      ]
     },
     "execution_count": 35,
     "metadata": {},
     "output_type": "execute_result"
    }
   ],
   "source": [
    "is_fte = 1\n",
    "\n",
    "# Boolean values indicate True or False and must be title-case\n",
    "is_fte = True\n",
    "\n",
    "\n"
   ]
  },
  {
   "cell_type": "code",
   "execution_count": 38,
   "metadata": {},
   "outputs": [
    {
     "name": "stdout",
     "output_type": "stream",
     "text": [
      "Full-time\n"
     ]
    }
   ],
   "source": [
    "# Error = the boolean value must be capitalized (True, not true or TRUE)\n",
    "if is_fte == True:\n",
    "    print(\"Full-time\")"
   ]
  },
  {
   "cell_type": "markdown",
   "metadata": {},
   "source": [
    "Non-zero values evaluate to ```True``` while 0 (zero) evaluates to ```False```."
   ]
  },
  {
   "cell_type": "code",
   "execution_count": 39,
   "metadata": {},
   "outputs": [
    {
     "name": "stdout",
     "output_type": "stream",
     "text": [
      "No hours worked or invalid value.\n"
     ]
    }
   ],
   "source": [
    "hours_worked = 0\n",
    "#hours_worked = 37\n",
    "#hours_worked = 'yes'\n",
    "\n",
    "if hours_worked:\n",
    "    print(\"Need to calculate payroll.\")\n",
    "\n",
    "if not hours_worked:\n",
    "    print(\"No hours worked or invalid value.\")"
   ]
  },
  {
   "cell_type": "markdown",
   "metadata": {},
   "source": [
    "#### Logic Operators on boolean values\n",
    "a and b are boolean values\n",
    "\n",
    "```Python\n",
    "not a # True if a is False, False if a is True\n",
    "a and b # Both a and b must be True for statement to be True\n",
    "a or b # Either a or b must be True for statement to be True\n",
    "```"
   ]
  },
  {
   "cell_type": "markdown",
   "metadata": {},
   "source": [
    "### String Type\n",
    "A string is a sequence of characters. \n",
    "\n",
    "Values enclosed within quotation marks (single, double, or triple-double) are strings."
   ]
  },
  {
   "cell_type": "code",
   "execution_count": 40,
   "metadata": {},
   "outputs": [],
   "source": [
    "s = 'Monty Python'"
   ]
  },
  {
   "cell_type": "code",
   "execution_count": 41,
   "metadata": {},
   "outputs": [
    {
     "name": "stdout",
     "output_type": "stream",
     "text": [
      "12\n",
      "Monty\n",
      "P\n"
     ]
    }
   ],
   "source": [
    "# use len() function to get the length of a string\n",
    "print(len(s))\n",
    "\n",
    "# Print part of a string, a slice\n",
    "print(s[0:5])\n",
    "\n",
    "print(s[6])"
   ]
  },
  {
   "cell_type": "code",
   "execution_count": 42,
   "metadata": {},
   "outputs": [
    {
     "ename": "TypeError",
     "evalue": "'str' object does not support item assignment",
     "output_type": "error",
     "traceback": [
      "\u001b[0;31m---------------------------------------------------------------------------\u001b[0m",
      "\u001b[0;31mTypeError\u001b[0m                                 Traceback (most recent call last)",
      "\u001b[0;32m<ipython-input-42-e63af6ba768d>\u001b[0m in \u001b[0;36m<module>\u001b[0;34m\u001b[0m\n\u001b[1;32m      1\u001b[0m \u001b[0;31m# Strings are immutable (Can't change 'Python' to 'Jython')\u001b[0m\u001b[0;34m\u001b[0m\u001b[0;34m\u001b[0m\u001b[0;34m\u001b[0m\u001b[0m\n\u001b[0;32m----> 2\u001b[0;31m \u001b[0ms\u001b[0m\u001b[0;34m[\u001b[0m\u001b[0;36m6\u001b[0m\u001b[0;34m]\u001b[0m \u001b[0;34m=\u001b[0m \u001b[0;34m\"J\"\u001b[0m\u001b[0;34m\u001b[0m\u001b[0;34m\u001b[0m\u001b[0m\n\u001b[0m",
      "\u001b[0;31mTypeError\u001b[0m: 'str' object does not support item assignment"
     ]
    }
   ],
   "source": [
    "# Strings are immutable (Can't change 'Python' to 'Jython')\n",
    "s[6] = \"J\""
   ]
  },
  {
   "cell_type": "markdown",
   "metadata": {},
   "source": [
    "### None type\n",
    "\n",
    "The null keyword is available in languages such as C++ and Java. Null means empty. It is not equivalent to a zero-length string nor is it equivalent to zero (0). In Python, the None type  is the keyword equivalent to Null. None (the type) is not equivalent to the string, \"None\". In my humble opinion, None is more logical than null. None means the object is nothing, non-existent. \n",
    "\n",
    "#### Why use None?\n",
    "\n",
    "When instantiating (creating) an object, you may need to check to see if the instantiation was successful or not. If the creation of the new object failed, the object will return a None type.\n",
    "\n",
    "---"
   ]
  },
  {
   "cell_type": "code",
   "execution_count": 43,
   "metadata": {},
   "outputs": [
    {
     "name": "stdout",
     "output_type": "stream",
     "text": [
      "False\n",
      "<class 'NoneType'>\n"
     ]
    }
   ],
   "source": [
    "# None is not the \"None\" string. It is a class type.\n",
    "print(None == \"None\")\n",
    "print(type(None))"
   ]
  },
  {
   "cell_type": "code",
   "execution_count": 44,
   "metadata": {},
   "outputs": [
    {
     "name": "stdout",
     "output_type": "stream",
     "text": [
      "The database could not connect\n"
     ]
    }
   ],
   "source": [
    "#Source: https://www.pythoncentral.io/python-null-equivalent-none/\n",
    "database_connection = None\n",
    " \n",
    "# Try to connect (none of the variables for the connect have values...)\n",
    "try:\n",
    "    database = MyDatabase(db_host, db_user, db_password, db_database)\n",
    "    database_connection = database.connect()\n",
    "except:\n",
    "    pass\n",
    " \n",
    "if database_connection is None:\n",
    "    print('The database could not connect')\n",
    "else:\n",
    "    print('The database could connect')"
   ]
  },
  {
   "cell_type": "markdown",
   "metadata": {},
   "source": [
    "### Complex numbers\n",
    "---\n",
    "A Complex Number is a combination of a Real Number and an Imaginary Number. [1]\n",
    "\n",
    "![image](./images/complex-example.svg)\n",
    "\n",
    "   "
   ]
  },
  {
   "cell_type": "code",
   "execution_count": null,
   "metadata": {},
   "outputs": [],
   "source": [
    "print(\"3i is of type: \" + str(type(3j)))\n",
    "print(7 + 3j)"
   ]
  },
  {
   "cell_type": "markdown",
   "metadata": {},
   "source": [
    "   \n",
    "The \"unit\" imaginary number (like 1 for Real Numbers) is i, which is the square root of −1.   \n",
    "\n",
    "![image](./images/imaginary-square-root.svg)\n",
    "\n",
    "> **Except in Python, \"j\" is used instead of \"i\".**"
   ]
  },
  {
   "cell_type": "code",
   "execution_count": null,
   "metadata": {},
   "outputs": [],
   "source": [
    "1j * 1j == -1"
   ]
  },
  {
   "cell_type": "markdown",
   "metadata": {
    "toc-hr-collapsed": true,
    "toc-nb-collapsed": true
   },
   "source": [
    "## Converting values between types\n",
    "\n",
    "Often you may need to convert from values from one type to another. For example, you may need to convert the values received from the input() function from string to an int or a float."
   ]
  },
  {
   "cell_type": "code",
   "execution_count": 45,
   "metadata": {},
   "outputs": [
    {
     "name": "stdout",
     "output_type": "stream",
     "text": [
      "Enter a number and I'll tell you if it is even or odd:\n",
      " 33\n",
      "<class 'int'>\n"
     ]
    }
   ],
   "source": [
    "user_number = input(\"Enter a number and I'll tell you if it is even or odd:\\n\")\n",
    "print(type(int(user_number)))\n"
   ]
  },
  {
   "cell_type": "code",
   "execution_count": 46,
   "metadata": {},
   "outputs": [
    {
     "data": {
      "image/png": "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",
      "text/plain": [
       "<Figure size 864x864 with 1 Axes>"
      ]
     },
     "metadata": {
      "needs_background": "light"
     },
     "output_type": "display_data"
    }
   ],
   "source": [
    "#Source: https://gist.github.com/jfpuget/60e07a82dece69b011bb -- Jean-François Puget¶\n",
    "\n",
    "import numpy as np\n",
    "from matplotlib import pyplot as plt\n",
    "from matplotlib import colors\n",
    "%matplotlib inline \n",
    "\n",
    "\n",
    "def mandelbrot_image(xmin,xmax,ymin,ymax,width=12,height=12,maxiter=80,cmap='hot'):\n",
    "    dpi = 72\n",
    "    img_width = dpi * width\n",
    "    img_height = dpi * height\n",
    "    x,y,z = mandelbrot_set(xmin,xmax,ymin,ymax,img_width,img_height,maxiter)\n",
    "    \n",
    "    fig, ax = plt.subplots(figsize=(width, height),dpi=72)\n",
    "    ticks = np.arange(0,img_width,3*dpi)\n",
    "    x_ticks = xmin + (xmax-xmin)*ticks/img_width\n",
    "    plt.xticks(ticks, x_ticks)\n",
    "    y_ticks = ymin + (ymax-ymin)*ticks/img_width\n",
    "    plt.yticks(ticks, y_ticks)\n",
    "    \n",
    "    norm = colors.PowerNorm(0.3)\n",
    "    ax.imshow(z.T,cmap=cmap,origin='lower',norm=norm)\n",
    "    \n",
    "def mandelbrot(c,maxiter):\n",
    "    z = c\n",
    "    for n in range(maxiter):\n",
    "        if abs(z) > 2:\n",
    "            return n\n",
    "        z = z*z + c\n",
    "    return 0\n",
    "\n",
    "def mandelbrot_set(xmin,xmax,ymin,ymax,width,height,maxiter):\n",
    "    r1 = np.linspace(xmin, xmax, width)\n",
    "    r2 = np.linspace(ymin, ymax, height)\n",
    "    n3 = np.empty((width,height))\n",
    "    for i in range(width):\n",
    "        for j in range(height):\n",
    "            n3[i,j] = mandelbrot(r1[i] + 1j*r2[j],maxiter)\n",
    "    return (r1,r2,n3)\n",
    "\n",
    "mandelbrot_image(-2.0,0.5,-1.25,1.25,maxiter=80,cmap='gnuplot2')"
   ]
  },
  {
   "cell_type": "markdown",
   "metadata": {},
   "source": [
    "## Order of Operations\n",
    "<a id=\"Setting_up_your_environment\"> </a>\n",
    "\n",
    "The order of evaluation of expressions with more than one operator follows *rules of precedence* -- PEMDAS\n",
    "\n",
    "* **Parentheses**\n",
    "* **Exponentiation**\n",
    "* **Multiplication and Division**\n",
    "* **Addition and Subraction**\n",
    "* **Left to Right** - operators with the same precedence are evaluated left to right"
   ]
  },
  {
   "cell_type": "code",
   "execution_count": 47,
   "metadata": {},
   "outputs": [
    {
     "data": {
      "text/plain": [
       "3"
      ]
     },
     "execution_count": 47,
     "metadata": {},
     "output_type": "execute_result"
    }
   ],
   "source": [
    "# Exponentiation, then Multiplication\n",
    "3*1**3"
   ]
  },
  {
   "cell_type": "markdown",
   "metadata": {},
   "source": [
    "## Operators"
   ]
  },
  {
   "cell_type": "markdown",
   "metadata": {},
   "source": [
    "### Modulo operator\n",
    "<a id=\"modulus_operator\"> </a>\n",
    "\n",
    "In computing, the modulo operation finds the remainder after division of one number by another (sometimes called modulus). Given two positive numbers, a (the dividend) and n (the divisor), a modulo n (abbreviated as a mod n) is the remainder of the Euclidean division of a by n.\n"
   ]
  },
  {
   "cell_type": "code",
   "execution_count": 48,
   "metadata": {},
   "outputs": [
    {
     "data": {
      "text/plain": [
       "2.3333333333333335"
      ]
     },
     "execution_count": 48,
     "metadata": {},
     "output_type": "execute_result"
    }
   ],
   "source": [
    "# Divide 7 by 3\n",
    "7/3"
   ]
  },
  {
   "cell_type": "code",
   "execution_count": 49,
   "metadata": {},
   "outputs": [
    {
     "data": {
      "text/plain": [
       "2"
      ]
     },
     "execution_count": 49,
     "metadata": {},
     "output_type": "execute_result"
    }
   ],
   "source": [
    "# Floor division\n",
    "7 // 3 # (2 is the quotient, 1 is the remainder)"
   ]
  },
  {
   "cell_type": "code",
   "execution_count": 50,
   "metadata": {},
   "outputs": [
    {
     "data": {
      "text/plain": [
       "1"
      ]
     },
     "execution_count": 50,
     "metadata": {},
     "output_type": "execute_result"
    }
   ],
   "source": [
    "# Return the remainder or modulus\n",
    "7 % 3"
   ]
  },
  {
   "cell_type": "markdown",
   "metadata": {},
   "source": [
    "### Assignment vs. Comparison\n",
    "---\n",
    "### In Python, assignment of a value to a variable is accomplished using a single equal sign. Comparison is performed using a double equal sign.\n"
   ]
  },
  {
   "cell_type": "code",
   "execution_count": null,
   "metadata": {},
   "outputs": [],
   "source": [
    "x = 7\n",
    "print(x)\n",
    "x = 1000\n",
    "print(x)"
   ]
  },
  {
   "cell_type": "code",
   "execution_count": null,
   "metadata": {},
   "outputs": [],
   "source": [
    "# Must use a double equal sign to compare values\n",
    "if x == 7:\n",
    "    print(\"Lucky Seven\")\n",
    "else:\n",
    "    print(\"You lose!\")"
   ]
  },
  {
   "cell_type": "code",
   "execution_count": null,
   "metadata": {},
   "outputs": [],
   "source": [
    "# Error when adding string and integer\n",
    "userinput = \"5\"\n",
    "\n",
    "sum = 7 + int(userinput)\n",
    "print(sum)"
   ]
  },
  {
   "cell_type": "code",
   "execution_count": null,
   "metadata": {},
   "outputs": [],
   "source": [
    "sum = 7 + int(userinput)\n",
    "print(\"sum = {}\".format(sum))"
   ]
  },
  {
   "cell_type": "code",
   "execution_count": null,
   "metadata": {},
   "outputs": [],
   "source": []
  },
  {
   "cell_type": "markdown",
   "metadata": {},
   "source": [
    "[1]: Source: https://www.mathsisfun.com"
   ]
  },
  {
   "cell_type": "markdown",
   "metadata": {},
   "source": [
    "## Variable Scope - LEGB\n",
    "When using variables, you must understand its scope. By scope we are referring the visibility of variables--in which parts of your program can access or change the variable. For example, if a variable is global, every part of your program can access it. However, variables used within a function should generally not be available outside the function.\n",
    "\n",
    "Python looks for variables in this order:\n",
    "* Local\n",
    "* Enclosing\n",
    "* Global\n",
    "* Built-in"
   ]
  },
  {
   "cell_type": "code",
   "execution_count": 51,
   "metadata": {},
   "outputs": [
    {
     "name": "stdout",
     "output_type": "stream",
     "text": [
      "inside function scope\n",
      "outside of function\n"
     ]
    }
   ],
   "source": [
    "# Local scope\n",
    "\n",
    "y = \"outside of function\"\n",
    "\n",
    "def my_function():\n",
    "    y = \"inside function scope\" # y is local to function--not available after function ends\n",
    "    print(y)\n",
    "\n",
    "my_function()\n",
    "\n",
    "print(y) # Prints enclosed y variable"
   ]
  },
  {
   "cell_type": "markdown",
   "metadata": {
    "toc-hr-collapsed": true,
    "toc-nb-collapsed": true
   },
   "source": [
    "# Conditional Execution\n",
    "\n",
    "In Python, use the if statement to perform decision-making by allowing conditional execution of a statement or group of statements based on the value of an expression.\n",
    "\n",
    "Remember that Python requires indentation to designate the start and end of code blocks. \n",
    "\n",
    "<condition> has a value of True or False\n",
    "\n",
    "```Python\n",
    "if <condition>:\n",
    "    <expression>\n",
    "    <expression>\n",
    "``` "
   ]
  },
  {
   "cell_type": "code",
   "execution_count": 52,
   "metadata": {},
   "outputs": [
    {
     "name": "stdout",
     "output_type": "stream",
     "text": [
      "busted!\n"
     ]
    }
   ],
   "source": [
    "CardTotal = 22\n",
    "if CardTotal > 21:\n",
    "    print(\"busted!\")"
   ]
  },
  {
   "cell_type": "code",
   "execution_count": 53,
   "metadata": {},
   "outputs": [
    {
     "name": "stdout",
     "output_type": "stream",
     "text": [
      "deal again? n\n"
     ]
    }
   ],
   "source": [
    "deal_again = input(\"deal again?\")\n",
    "if deal_again == 'yes':\n",
    "    print(\"dealing again...\")\n",
    "    # code here that deals again..."
   ]
  },
  {
   "cell_type": "markdown",
   "metadata": {},
   "source": [
    "## Conditionals with multiple expressions\n",
    "The ```if``` statement may be follwed by an ```else``` clause. The ```else``` clause will only be excecuted when the ```if``` statement evaluates to ```False```."
   ]
  },
  {
   "cell_type": "markdown",
   "metadata": {},
   "source": [
    "You can use an ```if...else``` statement to execute a set of statements based on whether the value of a variable is even or odd.\n",
    "\n",
    "![image](\\images\\if-then-elselogic.jpg)\n",
    "\n",
    "The basic if statement form:\n",
    "\n",
    "```Python\n",
    "if expr:\n",
    "    ''statement''\n",
    "else:\n",
    "    ''statement''\n",
    "```"
   ]
  },
  {
   "cell_type": "code",
   "execution_count": 54,
   "metadata": {},
   "outputs": [
    {
     "name": "stdout",
     "output_type": "stream",
     "text": [
      "x is odd\n"
     ]
    }
   ],
   "source": [
    "x = 9\n",
    "\n",
    "if x%2 == 0:\n",
    "    print('x is even')\n",
    "else:\n",
    "    print('x is odd')"
   ]
  },
  {
   "cell_type": "markdown",
   "metadata": {},
   "source": [
    "## Logical Operators"
   ]
  },
  {
   "cell_type": "code",
   "execution_count": 55,
   "metadata": {},
   "outputs": [
    {
     "name": "stdout",
     "output_type": "stream",
     "text": [
      "You're not one of us.\n"
     ]
    }
   ],
   "source": [
    "shave = True\n",
    "haircut = False\n",
    "\n",
    "if shave and haircut:\n",
    "    print(\"You know the secret knock!\")\n",
    "else:\n",
    "    print(\"You're not one of us.\")"
   ]
  },
  {
   "cell_type": "code",
   "execution_count": 56,
   "metadata": {},
   "outputs": [
    {
     "name": "stdout",
     "output_type": "stream",
     "text": [
      "You know the secret knock!\n"
     ]
    }
   ],
   "source": [
    "shave = False\n",
    "haircut = True\n",
    "\n",
    "if shave or haircut:\n",
    "    print(\"You know the secret knock!\")\n",
    "else:\n",
    "    print(\"You're not one of us.\")"
   ]
  },
  {
   "cell_type": "code",
   "execution_count": 57,
   "metadata": {},
   "outputs": [
    {
     "name": "stdout",
     "output_type": "stream",
     "text": [
      "True\n"
     ]
    }
   ],
   "source": [
    "#BOTH statements must be true to satisfy the statement and print True\n",
    "if 1 < 10 and -2 > -7:\n",
    "    print(True)\n",
    "else:\n",
    "    print(False)"
   ]
  },
  {
   "cell_type": "code",
   "execution_count": 58,
   "metadata": {},
   "outputs": [
    {
     "name": "stdout",
     "output_type": "stream",
     "text": [
      "True\n"
     ]
    }
   ],
   "source": [
    "#Only ONE expressopm must be true to satisfy the statement and print True\n",
    "if 100 < 10 or -2 > -7:\n",
    "    print(True)\n",
    "else:\n",
    "    print(False)"
   ]
  },
  {
   "cell_type": "markdown",
   "metadata": {},
   "source": [
    "## Chained Conditionals\n",
    "\n",
    "If more then two possibilities exist, one way to programmatically express this is using elif."
   ]
  },
  {
   "cell_type": "code",
   "execution_count": 60,
   "metadata": {},
   "outputs": [
    {
     "name": "stdout",
     "output_type": "stream",
     "text": [
      "x is greater than y\n"
     ]
    }
   ],
   "source": [
    "x = 8\n",
    "y = 5\n",
    "\n",
    "if x > y:\n",
    "    print(\"x is greater than y\")\n",
    "elif y > x:\n",
    "    print(\"y is greater than x\")\n",
    "else:\n",
    "    print(\"x and y are equal\")"
   ]
  },
  {
   "cell_type": "markdown",
   "metadata": {
    "toc-hr-collapsed": false
   },
   "source": [
    "## Nested Conditionals\n",
    "\n",
    "You can also nest one conditional inside another conditional. Consider the previous example:"
   ]
  },
  {
   "cell_type": "code",
   "execution_count": 61,
   "metadata": {},
   "outputs": [
    {
     "name": "stdout",
     "output_type": "stream",
     "text": [
      "x is less than y\n"
     ]
    }
   ],
   "source": [
    "x = 2\n",
    "y = 3\n",
    "\n",
    "if x == y:\n",
    "    print(\"x and y are equal\")\n",
    "else:\n",
    "    if x < y:\n",
    "        print(\"x is less than y\")\n",
    "    else:\n",
    "        print(\"x is greater than y\")"
   ]
  },
  {
   "cell_type": "markdown",
   "metadata": {},
   "source": [
    "## Grouping comparison operators\n",
    "Comparison operators can be grouped."
   ]
  },
  {
   "cell_type": "code",
   "execution_count": 62,
   "metadata": {},
   "outputs": [
    {
     "name": "stdout",
     "output_type": "stream",
     "text": [
      "x is a positive two-digit number\n"
     ]
    }
   ],
   "source": [
    "x = 111\n",
    "if 0 < x < 10:\n",
    "    print(\"x is a positive single-digit number\")\n",
    "elif x < 0:\n",
    "    print(\"x is a negative number\")\n",
    "elif x >= 10:\n",
    "    print(\"x is a positive two-digit number\")"
   ]
  },
  {
   "cell_type": "code",
   "execution_count": 63,
   "metadata": {},
   "outputs": [
    {
     "name": "stdout",
     "output_type": "stream",
     "text": [
      "1\n",
      "2\n",
      "6\n"
     ]
    }
   ],
   "source": [
    "x = 1\n",
    "y = 2\n",
    "z = 6\n",
    "\n",
    "# The entire expression must be true to print values\n",
    "if x < y < z: print(x); print(y); print(z)"
   ]
  },
  {
   "cell_type": "markdown",
   "metadata": {},
   "source": [
    "## Operators and Operands\n",
    "<a id=\"operators_and_operands\"> </a>\n",
    "Operators are special symbols that represent computations like addition and multiplication. The values the operator is applied to are called operands.\n",
    "The operators +, -, *, /, and ** perform addition, subtraction, multiplication, division, and exponentiation, as in the following examples:\n"
   ]
  },
  {
   "cell_type": "code",
   "execution_count": 64,
   "metadata": {},
   "outputs": [
    {
     "data": {
      "text/plain": [
       "43"
      ]
     },
     "execution_count": 64,
     "metadata": {},
     "output_type": "execute_result"
    }
   ],
   "source": [
    "#Addition and subtraction\n",
    "20+33-10"
   ]
  },
  {
   "cell_type": "code",
   "execution_count": 65,
   "metadata": {},
   "outputs": [
    {
     "data": {
      "text/plain": [
       "25"
      ]
     },
     "execution_count": 65,
     "metadata": {},
     "output_type": "execute_result"
    }
   ],
   "source": [
    "# Five squared\n",
    "5**2"
   ]
  },
  {
   "cell_type": "code",
   "execution_count": 66,
   "metadata": {},
   "outputs": [
    {
     "data": {
      "text/plain": [
       "55"
      ]
     },
     "execution_count": 66,
     "metadata": {},
     "output_type": "execute_result"
    }
   ],
   "source": [
    "# Multiplication\n",
    "(3+2)*(9+2)"
   ]
  },
  {
   "cell_type": "code",
   "execution_count": 67,
   "metadata": {},
   "outputs": [
    {
     "data": {
      "text/plain": [
       "4.0"
      ]
     },
     "execution_count": 67,
     "metadata": {},
     "output_type": "execute_result"
    }
   ],
   "source": [
    "# Division\n",
    "100/25"
   ]
  },
  {
   "cell_type": "markdown",
   "metadata": {
    "toc-hr-collapsed": true,
    "toc-nb-collapsed": true
   },
   "source": [
    "# Iteration (looping)\n",
    "Computers are very good and doing repetitive tasks. You will use iteration for many operations in Python. For example, you may loop through records in a database or examine lines in text file. \n",
    "\n",
    "Two methods for iterating are the While statement and the For loop. "
   ]
  },
  {
   "cell_type": "markdown",
   "metadata": {},
   "source": [
    "## While statement\n",
    "\n",
    "Computers are well-suited to repeat operations very quickly. Use the While statement to repeat a series of steps until a condition is met. Use when the number of iterations is not known.\n",
    "\n",
    "```Python\n",
    "while <condition>:\n",
    "    <expression>\n",
    "    <expression>\n",
    "    ...\n",
    "```"
   ]
  },
  {
   "cell_type": "code",
   "execution_count": 68,
   "metadata": {},
   "outputs": [
    {
     "name": "stdout",
     "output_type": "stream",
     "text": [
      "day 0\n",
      "day 1\n",
      "day 2\n",
      "day 3\n",
      "day 4\n",
      "day 5\n",
      "day 6\n"
     ]
    }
   ],
   "source": [
    "n = 0\n",
    "while n < 7:\n",
    "    print(\"day \" + str(n))\n",
    "    n = n + 1"
   ]
  },
  {
   "cell_type": "markdown",
   "metadata": {},
   "source": [
    "## For Loop\n",
    "Use the For Loop when you have a specific number of iterations or you are iterating through a collection of items (e.g., lines in a text file).\n",
    "\n",
    "```Python\n",
    "for <variable> in range(<value>):\n",
    "    <expression>\n",
    "    <expression>\n",
    "    ...\n",
    "```\n",
    "\n",
    "* On first loop, <variable> starts with smallest value\n",
    "* On each loop, <variable> is incremented (or decremented if negative step)\n",
    "* At <value> - 1, loop is complete"
   ]
  },
  {
   "cell_type": "markdown",
   "metadata": {},
   "source": [
    "### Range Function\n",
    "\n",
    "```Python\n",
    "range(start, stop, step)\n",
    "```\n",
    "Default values: start = 0, step = 1\n",
    "\n",
    "Range increments until value is stop - 1."
   ]
  },
  {
   "cell_type": "code",
   "execution_count": 69,
   "metadata": {},
   "outputs": [
    {
     "name": "stdout",
     "output_type": "stream",
     "text": [
      "0 1 2 3 4 5 6 7 8 9 10 "
     ]
    }
   ],
   "source": [
    "# Range function (see \"Functions\" section for more information about functions)\n",
    "# range(start_value, end_value, step_value)\n",
    "\n",
    "for x in range(11):\n",
    "    print(x, end=\" \")"
   ]
  },
  {
   "cell_type": "code",
   "execution_count": 70,
   "metadata": {},
   "outputs": [
    {
     "name": "stdout",
     "output_type": "stream",
     "text": [
      "10 9 8 7 6 5 4 3 2 1 "
     ]
    }
   ],
   "source": [
    "# To count down, set the step value to negative.\n",
    "for x in range(10,0,-1):\n",
    "    print(x, end=\" \")"
   ]
  },
  {
   "cell_type": "markdown",
   "metadata": {},
   "source": [
    "A counter variable can be used in either the For Loop or the While loop, but the counter variable must be initialized prior to its use."
   ]
  },
  {
   "cell_type": "code",
   "execution_count": 71,
   "metadata": {},
   "outputs": [
    {
     "name": "stdout",
     "output_type": "stream",
     "text": [
      "1 2 3 4 5 6 7 8 9 10 "
     ]
    }
   ],
   "source": [
    "# Initialze a counter variable, z.\n",
    "z = 0\n",
    "\n",
    "#Loop ten times (1 through 10)\n",
    "for y in range(1,11):\n",
    "\n",
    "    #Increment z by 1 during each loop. \n",
    "    z += 1 # This is shorthand for z = z + 1\n",
    "    \n",
    "    print(z, end=\" \")"
   ]
  },
  {
   "cell_type": "markdown",
   "metadata": {},
   "source": [
    "## Looping through items\n",
    "\n",
    "In addition to using the ```range()``` function or the ```while``` statement, you can also loop through a collection of objects such as the files in the working directory. Note that we do not need to obtain the number of items (files, in this case) present in the collection (folder). We simply ask Python to iterate through them."
   ]
  },
  {
   "cell_type": "code",
   "execution_count": 74,
   "metadata": {},
   "outputs": [
    {
     "name": "stdout",
     "output_type": "stream",
     "text": [
      ".git\n",
      "README.md\n",
      "fitting dists.ipynb\n",
      "Python Fundamentals-3-Data Structures.ipynb\n",
      "requirements.txt\n",
      "Web Scraping-Requests-BS4.ipynb\n",
      "images_numpy\n",
      ".ipynb_checkpoints\n",
      "Selenium.ipynb\n",
      ".gitignore\n",
      "images\n",
      "Matplotlib_Introduction.ipynb\n",
      "Python Fundamentals-1.ipynb\n",
      "Pandas_Fundamentals.ipynb\n",
      "Using pathlib.ipynb\n",
      "Numpy fundamentals part 1.ipynb\n",
      "Python fundamentals-2.ipynb\n",
      "Database programming.ipynb\n",
      "Networking.ipynb\n",
      "files\n"
     ]
    }
   ],
   "source": [
    "# Add the os module to our environment (covered later)\n",
    "import os\n",
    "\n",
    "# Get a list of all the files in the current folder and store them in the\n",
    "#   variable files\n",
    "files = os.listdir()\n",
    "\n",
    "for x in files:\n",
    "    print(x)"
   ]
  },
  {
   "cell_type": "code",
   "execution_count": null,
   "metadata": {},
   "outputs": [],
   "source": [
    "# Traverse the directory hierarchy in the user's Documents folder and \n",
    "#   Display the full path of each file\n",
    "\n",
    "# Start in this folder (use ''~\\Documents' for user's document directory)\n",
    "root_folder = os.path.expanduser('~')\n",
    "\n",
    "# Return the path, folders, and files in the hierarchy\n",
    "for root, dirs, files in os.walk(root_folder):\n",
    "    for name in files:\n",
    "        print(os.path.join(root, name))"
   ]
  },
  {
   "cell_type": "markdown",
   "metadata": {},
   "source": [
    "## Break statement\n",
    "Use the ```break``` statement to exit a loop. Break exits the current loop, so if you have a nested loop and wish to exit both, you'll need to provide two break statements, one for each loop."
   ]
  },
  {
   "cell_type": "code",
   "execution_count": 77,
   "metadata": {},
   "outputs": [
    {
     "name": "stdout",
     "output_type": "stream",
     "text": [
      "100 5 total loops =  500\n"
     ]
    }
   ],
   "source": [
    "total_loops = 0\n",
    "for x in range(1,101):    \n",
    "    for y in range(1,6):\n",
    "        total_loops = total_loops + 1\n",
    "        if y == 5:\n",
    "            break\n",
    "print(x,y, \"total loops = \", total_loops)"
   ]
  },
  {
   "cell_type": "code",
   "execution_count": null,
   "metadata": {},
   "outputs": [],
   "source": [
    "database = MyDatabase(db_host, db_user, db_password, db_database)\n",
    "database_connection = database.connect()"
   ]
  },
  {
   "cell_type": "code",
   "execution_count": null,
   "metadata": {},
   "outputs": [],
   "source": [
    "#Source: https://www.pythoncentral.io/python-null-equivalent-none/\n",
    "database_connection = None\n",
    " \n",
    "# Try to connect (none of the variables for the connect have values...)\n",
    "try:\n",
    "    database = MyDatabase(db_host, db_user, db_password, db_database)\n",
    "    database_connection = database.connect()\n",
    "except:\n",
    "    print(\"no db connection\")\n",
    "    pass\n",
    " \n",
    "if database_connection is None:\n",
    "    print('The database could not connect')\n",
    "else:\n",
    "    print('The database could connect')"
   ]
  }
 ],
 "metadata": {
  "kernelspec": {
   "display_name": "Python 3 (ipykernel)",
   "language": "python",
   "name": "python3"
  },
  "language_info": {
   "codemirror_mode": {
    "name": "ipython",
    "version": 3
   },
   "file_extension": ".py",
   "mimetype": "text/x-python",
   "name": "python",
   "nbconvert_exporter": "python",
   "pygments_lexer": "ipython3",
   "version": "3.9.7"
  },
  "toc-autonumbering": true
 },
 "nbformat": 4,
 "nbformat_minor": 4
}
