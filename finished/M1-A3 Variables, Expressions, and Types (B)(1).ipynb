{
 "cells": [
  {
   "cell_type": "markdown",
   "metadata": {},
   "source": [
    "# M1-A4 Variables, Expressions, and Types (B) #\n",
    "\n",
    "# Instructions: #\n",
    "Write code to prompt the user to enter any word, then return the length of that word\n",
    "\n",
    "**Bold** indicates the input you are providing when you run the program, otherwise known as input from the console. You do not need to print this input or bold anything in your output. <br>\n",
    "Do not hard code; different strings will be tested\n",
    "\n",
    "### Expected sample output: ###\n",
    "Enter any word:<br>\n",
    "**Python**<br>\n",
    "6\n",
    "\n",
    "### Expected sample output: ###\n",
    "Enter any word:<br>\n",
    "**Saban**<br>\n",
    "5\n",
    "\n",
    "### Expected sample output: ###\n",
    "Enter any word:<br>\n",
    "**football**<br>\n",
    "8"
   ]
  },
  {
   "cell_type": "code",
   "execution_count": 1,
   "metadata": {},
   "outputs": [
    {
     "name": "stdout",
     "output_type": "stream",
     "text": [
      "Enter any word:\n"
     ]
    },
    {
     "name": "stdin",
     "output_type": "stream",
     "text": [
      " Python\n"
     ]
    },
    {
     "name": "stdout",
     "output_type": "stream",
     "text": [
      "6\n"
     ]
    }
   ],
   "source": [
    "print(\"Enter any word:\")\n",
    "str = input()\n",
    "print(len(str))"
   ]
  },
  {
   "cell_type": "code",
   "execution_count": null,
   "metadata": {},
   "outputs": [],
   "source": []
  }
 ],
 "metadata": {
  "kernelspec": {
   "display_name": "Python 3 (ipykernel)",
   "language": "python",
   "name": "python3"
  },
  "language_info": {
   "codemirror_mode": {
    "name": "ipython",
    "version": 3
   },
   "file_extension": ".py",
   "mimetype": "text/x-python",
   "name": "python",
   "nbconvert_exporter": "python",
   "pygments_lexer": "ipython3",
   "version": "3.9.7"
  }
 },
 "nbformat": 4,
 "nbformat_minor": 4
}
