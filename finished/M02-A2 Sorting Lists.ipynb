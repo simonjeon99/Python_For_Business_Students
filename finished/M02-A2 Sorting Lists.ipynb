{
 "cells": [
  {
   "cell_type": "markdown",
   "metadata": {},
   "source": [
    "# M02-A2 Sorting Lists\n",
    "\n",
    "# Instructions:\n",
    "Ask the user for the number of names in a list and get the names from the user. Sort the names and output them as a list.\n",
    "\n",
    "**Bold** indicates input from the console.\n",
    "\n",
    "### Expected sample output:\n",
    "How many names are in your list?<br>\n",
    "**5**<br>\n",
    "Enter name<br>\n",
    "**Jerry**<br>\n",
    "Enter name<br>\n",
    "**Jacob**<br>\n",
    "Enter name<br>\n",
    "**Justin**<br>\n",
    "Enter name<br>\n",
    "**Jared**<br>\n",
    "Enter name<br>\n",
    "**Jobe**<br>\n",
    "['Jacob', 'Jared', 'Jerry', 'Jobe', 'Justin']<br>\n",
    "\n",
    "### Expected sample output:\n",
    "How many names are in your list?<br>\n",
    "**9**<br>\n",
    "Enter name<br>\n",
    "**Sam**<br>\n",
    "Enter name<br>\n",
    "**Lauren**<br>\n",
    "Enter name<br>\n",
    "**Karen**<br>\n",
    "Enter name<br>\n",
    "**Jared**<br>\n",
    "Enter name<br>\n",
    "**Liz**<br>\n",
    "Enter name<br>\n",
    "**Zachary**<br>\n",
    "Enter name<br>\n",
    "**Allison**<br>\n",
    "Enter name<br>\n",
    "**Marylin**<br>\n",
    "Enter name<br>\n",
    "**Cary**<br>\n",
    "['Allison', 'Cary', 'Jared', 'Karen', 'Lauren', 'Liz', 'Marylin', 'Sam', 'Zachary']<br>"
   ]
  },
  {
   "cell_type": "code",
   "execution_count": 12,
   "metadata": {},
   "outputs": [
    {
     "name": "stdout",
     "output_type": "stream",
     "text": [
      "How many names are in your list?\n"
     ]
    },
    {
     "name": "stdin",
     "output_type": "stream",
     "text": [
      " 3\n"
     ]
    },
    {
     "name": "stdout",
     "output_type": "stream",
     "text": [
      "Enter name\n"
     ]
    },
    {
     "name": "stdin",
     "output_type": "stream",
     "text": [
      " Karen\n"
     ]
    },
    {
     "name": "stdout",
     "output_type": "stream",
     "text": [
      "Enter name\n"
     ]
    },
    {
     "name": "stdin",
     "output_type": "stream",
     "text": [
      " Zachary\n"
     ]
    },
    {
     "name": "stdout",
     "output_type": "stream",
     "text": [
      "Enter name\n"
     ]
    },
    {
     "name": "stdin",
     "output_type": "stream",
     "text": [
      " Aliison\n"
     ]
    },
    {
     "data": {
      "text/plain": [
       "['Aliison', 'Karen', 'Zachary']"
      ]
     },
     "execution_count": 12,
     "metadata": {},
     "output_type": "execute_result"
    }
   ],
   "source": [
    "#Write your Python code here\n",
    "\n",
    "def sortName():\n",
    "    namelist = []\n",
    "    print(\"How many names are in your list?\")\n",
    "    count = int(input())\n",
    "    for i in range(count):\n",
    "        print(\"Enter name\")\n",
    "        val = input()\n",
    "        namelist.append(val)\n",
    "    \n",
    "    namelist.sort()\n",
    "    return namelist\n",
    "    \n",
    "sortName()"
   ]
  },
  {
   "cell_type": "code",
   "execution_count": 13,
   "metadata": {},
   "outputs": [
    {
     "name": "stdout",
     "output_type": "stream",
     "text": [
      "How many names are in your list?\n"
     ]
    },
    {
     "name": "stdin",
     "output_type": "stream",
     "text": [
      " 3\n"
     ]
    },
    {
     "name": "stdout",
     "output_type": "stream",
     "text": [
      "Enter name\n"
     ]
    },
    {
     "name": "stdin",
     "output_type": "stream",
     "text": [
      " Karen\n"
     ]
    },
    {
     "name": "stdout",
     "output_type": "stream",
     "text": [
      "Enter name\n"
     ]
    },
    {
     "name": "stdin",
     "output_type": "stream",
     "text": [
      " Zachary\n"
     ]
    },
    {
     "name": "stdout",
     "output_type": "stream",
     "text": [
      "Enter name\n"
     ]
    },
    {
     "name": "stdin",
     "output_type": "stream",
     "text": [
      " Allison\n"
     ]
    },
    {
     "data": {
      "text/plain": [
       "['Allison', 'Karen', 'Zachary']"
      ]
     },
     "execution_count": 13,
     "metadata": {},
     "output_type": "execute_result"
    }
   ],
   "source": [
    "namelist = []\n",
    "print(\"How many names are in your list?\")\n",
    "count = int(input())\n",
    "for i in range(count):\n",
    "    print(\"Enter name\")\n",
    "    val = input()\n",
    "    namelist.append(val)\n",
    "\n",
    "namelist.sort()\n",
    "namelist"
   ]
  },
  {
   "cell_type": "code",
   "execution_count": null,
   "metadata": {},
   "outputs": [],
   "source": []
  }
 ],
 "metadata": {
  "kernelspec": {
   "display_name": "Python 3 (ipykernel)",
   "language": "python",
   "name": "python3"
  },
  "language_info": {
   "codemirror_mode": {
    "name": "ipython",
    "version": 3
   },
   "file_extension": ".py",
   "mimetype": "text/x-python",
   "name": "python",
   "nbconvert_exporter": "python",
   "pygments_lexer": "ipython3",
   "version": "3.9.7"
  }
 },
 "nbformat": 4,
 "nbformat_minor": 4
}
