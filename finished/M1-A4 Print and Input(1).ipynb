{
 "cells": [
  {
   "cell_type": "markdown",
   "metadata": {},
   "source": [
    "# M1-A5 Print and Input\n",
    "\n",
    "# Instructions:\n",
    "Write code that asks the user for their name, age, and favorite color. Then, return that information to the user.\n",
    "\n",
    "**Bold** indicates input from the console.<br>\n",
    "\n",
    "### Expected sample output:\n",
    "Hello user!<br>\n",
    "What is your name?:<br>\n",
    "Rachel<br>\n",
    "Rachel, what is your favorite color?:<br>\n",
    "Blue<br>\n",
    "Rachel, how old are you?:<br>\n",
    "21<br>\n",
    "Rachel, you are 21 years old, and your favorite color is blue. Nice to meet you!<br>"
   ]
  },
  {
   "cell_type": "code",
   "execution_count": null,
   "metadata": {},
   "outputs": [
    {
     "name": "stdout",
     "output_type": "stream",
     "text": [
      "Hello user!\n",
      "What is your name?:\n"
     ]
    }
   ],
   "source": [
    "print(\"Hello user!\")\n",
    "print(\"What is your name?:\")\n",
    "stri = input()\n",
    "print(stri + \", what is your favorite color?:\")\n",
    "color = input().lower()\n",
    "print(stri + \", how old are you?:\")\n",
    "age = input()\n",
    "print(stri + \", you are \" + age + \" years old, and your favorite color is \" + color + \". Nice to meet you!\")"
   ]
  },
  {
   "cell_type": "code",
   "execution_count": null,
   "metadata": {},
   "outputs": [],
   "source": []
  }
 ],
 "metadata": {
  "kernelspec": {
   "display_name": "Python 3 (ipykernel)",
   "language": "python",
   "name": "python3"
  },
  "language_info": {
   "codemirror_mode": {
    "name": "ipython",
    "version": 3
   },
   "file_extension": ".py",
   "mimetype": "text/x-python",
   "name": "python",
   "nbconvert_exporter": "python",
   "pygments_lexer": "ipython3",
   "version": "3.9.7"
  }
 },
 "nbformat": 4,
 "nbformat_minor": 4
}
