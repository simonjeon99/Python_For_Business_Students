{
 "cells": [
  {
   "cell_type": "markdown",
   "metadata": {},
   "source": [
    "# M1-A4 Variables, Expressions, and Types (A)\n",
    "\n",
    "# Instructions: \n",
    "\n",
    "Write code that asks the user for two numbers and then returns the two numbers added, the two numbers multiplied, the first number raised to the power of the second number, the first number divided by the second number and the variable type of the first number divided by the second. <br>\n",
    "\n",
    "**Bold** indicates the input you are providing when you run the program, otherwise known as input from the console. You do not need to print this input or bold anything in your output. <br>\n",
    "Do not hard code; different numbers will be tested.\n",
    "\n",
    "### Expected sample output:\n",
    "Enter the first number:<br>\n",
    "**9**<br>\n",
    "Enter the second number:<br>\n",
    "**4**<br>\n",
    "13<br>\n",
    "36<br>\n",
    "6561<br>\n",
    "2.25<br>\n",
    "<class 'float'>\n",
    "\n",
    "### Expected sample output:\n",
    "Enter the first number:<br>\n",
    "**6**<br>\n",
    "Enter the second number:<br>\n",
    "**2**<br>\n",
    "8<br>\n",
    "12<br>\n",
    "36<br>\n",
    "3.0<br>\n",
    "<class 'float'>"
   ]
  },
  {
   "cell_type": "code",
   "execution_count": 2,
   "metadata": {},
   "outputs": [
    {
     "name": "stdout",
     "output_type": "stream",
     "text": [
      "Enter the first number:\n"
     ]
    },
    {
     "name": "stdin",
     "output_type": "stream",
     "text": [
      " 9\n"
     ]
    },
    {
     "name": "stdout",
     "output_type": "stream",
     "text": [
      "Enter the second number:\n"
     ]
    },
    {
     "name": "stdin",
     "output_type": "stream",
     "text": [
      " 4\n"
     ]
    },
    {
     "name": "stdout",
     "output_type": "stream",
     "text": [
      "13\n",
      "36\n",
      "6561\n",
      "2.25\n",
      "<class 'float'>\n"
     ]
    }
   ],
   "source": [
    "print(\"Enter the first number:\")\n",
    "fnum = int(input())\n",
    "print(\"Enter the second number:\")\n",
    "snum = int(input())\n",
    "print(fnum + snum)\n",
    "print(fnum * snum)\n",
    "print(fnum ** snum)\n",
    "print(fnum / snum)\n",
    "print(type(fnum / snum))\n",
    "\n",
    "    "
   ]
  },
  {
   "cell_type": "code",
   "execution_count": null,
   "metadata": {},
   "outputs": [],
   "source": []
  }
 ],
 "metadata": {
  "kernelspec": {
   "display_name": "Python 3 (ipykernel)",
   "language": "python",
   "name": "python3"
  },
  "language_info": {
   "codemirror_mode": {
    "name": "ipython",
    "version": 3
   },
   "file_extension": ".py",
   "mimetype": "text/x-python",
   "name": "python",
   "nbconvert_exporter": "python",
   "pygments_lexer": "ipython3",
   "version": "3.9.7"
  }
 },
 "nbformat": 4,
 "nbformat_minor": 4
}
