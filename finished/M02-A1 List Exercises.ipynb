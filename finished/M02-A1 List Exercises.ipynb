{
 "cells": [
  {
   "cell_type": "markdown",
   "metadata": {},
   "source": [
    "# Module 2, Assignment 1 \n",
    "List Exercises"
   ]
  },
  {
   "cell_type": "code",
   "execution_count": 1,
   "metadata": {},
   "outputs": [],
   "source": [
    "# Create a function that when it receives a list as its only parameter it returns the sum printed like this: 3 + 5 + 8 = 16\n",
    "#   Name the function: expanded_sum()\n",
    "\n",
    "def expanded_sum(nums):\n",
    "    if isinstance(nums, list): \n",
    "        sum = 0\n",
    "        string = \"\"\n",
    "        for i in range(len(nums)):\n",
    "            if i == len(nums) -1:\n",
    "                string = string + str(nums[i]) + \" = \"\n",
    "            else:\n",
    "                string = string + str(nums[i]) + \" + \"\n",
    "            sum += nums[i]\n",
    "        print(string + str(sum))"
   ]
  },
  {
   "cell_type": "code",
   "execution_count": 2,
   "metadata": {},
   "outputs": [],
   "source": [
    "# Create a function that takes a list as its only parameter and returns a list containing only the lowest and highest number (in that order)\n",
    "#   Name the function: get_high_low()\n",
    "\n",
    "def get_high_low(nums):\n",
    "    if isinstance(nums, list):\n",
    "        newlist = [min(nums), max(nums)]\n",
    "        \n",
    "        return newlist"
   ]
  },
  {
   "cell_type": "code",
   "execution_count": 3,
   "metadata": {},
   "outputs": [],
   "source": [
    "# Create a function that returns True if a list passed to it is empty and returns false if it is not empty.\n",
    "#   Name the function: is_list_empty()\n",
    "def is_list_empty(lists):\n",
    "    if not lists:\n",
    "        return True\n",
    "    else:\n",
    "        return False        "
   ]
  },
  {
   "cell_type": "code",
   "execution_count": 4,
   "metadata": {},
   "outputs": [],
   "source": [
    "# Create a function that will accept two lists and returns True if they have at least one common member.\n",
    "#   Name the function common_member()\n",
    "def common_member(list1, list2):\n",
    "    if isinstance(list1, list) and isinstance(list2, list):\n",
    "        for x in list1:\n",
    "            if x in list2:\n",
    "                return True\n",
    "        \n",
    "        return False"
   ]
  }
 ],
 "metadata": {
  "kernelspec": {
   "display_name": "Python 3 (ipykernel)",
   "language": "python",
   "name": "python3"
  },
  "language_info": {
   "codemirror_mode": {
    "name": "ipython",
    "version": 3
   },
   "file_extension": ".py",
   "mimetype": "text/x-python",
   "name": "python",
   "nbconvert_exporter": "python",
   "pygments_lexer": "ipython3",
   "version": "3.9.7"
  }
 },
 "nbformat": 4,
 "nbformat_minor": 4
}
