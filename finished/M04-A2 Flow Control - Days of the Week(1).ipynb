{
 "cells": [
  {
   "cell_type": "markdown",
   "metadata": {},
   "source": [
    "# M04-A2 Flow Control - Days of the Week\n",
    "\n",
    "# Instructions:\n",
    "Write a Python script to obtain a number (1-7) representing the day of the week. (1 = Sunday, 2 = Monday, etc.). Then, print the full name of the day, e.g. \"Sunday\".\n",
    "\n",
    "**Bold** indicates input from the console.<br>\n",
    "Your code design should be reasonably efficient.\n",
    "\n",
    "### Expected sample output:\n",
    "Enter a number that corresponds to the day of the week:<br>\n",
    "**1**<br>\n",
    "Sunday\n",
    "\n",
    "### Expected sample output:\n",
    "Enter a number that corresponds to the day of the week:<br>\n",
    "**5**<br>\n",
    "Thursday"
   ]
  },
  {
   "cell_type": "code",
   "execution_count": 11,
   "metadata": {},
   "outputs": [
    {
     "name": "stdout",
     "output_type": "stream",
     "text": [
      "Enter a number that corresponds to the day of the week:\n"
     ]
    },
    {
     "name": "stdin",
     "output_type": "stream",
     "text": [
      " 4\n"
     ]
    },
    {
     "name": "stdout",
     "output_type": "stream",
     "text": [
      "Wednesday\n"
     ]
    }
   ],
   "source": [
    "#Write your Python code here\n",
    "\n",
    "lists = [\"Sunday\", \"Monday\", \"Tuesday\", \"Wednesday\", \"Thursday\", \"Friday\", \"Saturday\"]\n",
    "print(\"Enter a number that corresponds to the day of the week:\")\n",
    "index = int(input())\n",
    "if index < 1 or index > 7:\n",
    "    print(\"Please input the numbers ranging (1-7)\")\n",
    "else:\n",
    "    print(lists[index-1])"
   ]
  },
  {
   "cell_type": "code",
   "execution_count": null,
   "metadata": {},
   "outputs": [],
   "source": []
  }
 ],
 "metadata": {
  "kernelspec": {
   "display_name": "Python 3 (ipykernel)",
   "language": "python",
   "name": "python3"
  },
  "language_info": {
   "codemirror_mode": {
    "name": "ipython",
    "version": 3
   },
   "file_extension": ".py",
   "mimetype": "text/x-python",
   "name": "python",
   "nbconvert_exporter": "python",
   "pygments_lexer": "ipython3",
   "version": "3.9.7"
  }
 },
 "nbformat": 4,
 "nbformat_minor": 4
}
