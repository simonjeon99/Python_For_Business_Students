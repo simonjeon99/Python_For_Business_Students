{
 "cells": [
  {
   "cell_type": "markdown",
   "metadata": {},
   "source": [
    "# M2-A1 Flow Control - Umbrella\n",
    "\n",
    "# Instructions:\n",
    "Write a Python script that asks the user whether its raining or not, and then based on their input, output either “You need an umbrella.” or “You do not need an umbrella.”\n",
    "\n",
    "**Bold** indicates input from the console.\n",
    "\n",
    "### Expected sample output:\n",
    "Is it raining?<br>\n",
    "**Yes**<br>\n",
    "You need an umbrella<br>\n",
    "\n",
    "### Expected sample output:\n",
    "Is it raining?<br>\n",
    "**No**<br>\n",
    "You do not need an umbrella<br>"
   ]
  },
  {
   "cell_type": "code",
   "execution_count": null,
   "metadata": {},
   "outputs": [
    {
     "name": "stdout",
     "output_type": "stream",
     "text": [
      "Is it raining?\n"
     ]
    }
   ],
   "source": [
    "#Write your Python code here\n",
    "\n",
    "print(\"Is it raining?\")\n",
    "answer = input()\n",
    "if answer.lower() == \"yes\":\n",
    "    print(\"You need an umbrella\")\n",
    "else:\n",
    "    print(\"You do not need an umbrella\")"
   ]
  },
  {
   "cell_type": "code",
   "execution_count": null,
   "metadata": {},
   "outputs": [],
   "source": []
  }
 ],
 "metadata": {
  "kernelspec": {
   "display_name": "Python 3 (ipykernel)",
   "language": "python",
   "name": "python3"
  },
  "language_info": {
   "codemirror_mode": {
    "name": "ipython",
    "version": 3
   },
   "file_extension": ".py",
   "mimetype": "text/x-python",
   "name": "python",
   "nbconvert_exporter": "python",
   "pygments_lexer": "ipython3",
   "version": "3.9.7"
  }
 },
 "nbformat": 4,
 "nbformat_minor": 4
}
