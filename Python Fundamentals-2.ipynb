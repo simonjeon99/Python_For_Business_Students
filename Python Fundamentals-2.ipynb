{
 "cells": [
  {
   "cell_type": "markdown",
   "metadata": {},
   "source": [
    "2/2/2022"
   ]
  },
  {
   "cell_type": "markdown",
   "metadata": {
    "tags": [],
    "toc-nb-collapsed": true
   },
   "source": [
    "# Functions\n",
    "A *function* is a discrete set of instructions typically designed to receive one or more values and return a value. A function call receives values called *arguments* or *parameters* and it typically *returns* a value or object.\n"
   ]
  },
  {
   "cell_type": "markdown",
   "metadata": {},
   "source": [
    "## Built-in functions\n",
    "For example, the print() function takes an argument and sends output to the console."
   ]
  },
  {
   "cell_type": "markdown",
   "metadata": {},
   "source": [
    "### Print() and Input()\n",
    "The ```print()``` function displays messages and is sometimes used as simple debugging method. \n",
    "\n",
    "The print function underwent major changes from Python 2 to Python 3 and is written differently depending on the version. Python 2 omits the parentheses (e.g., ```print a```) while Python 3 requires them (e.g., ```print(a)``` ).\n",
    "\n",
    "Calling the print function without an argument results in a blank line."
   ]
  },
  {
   "cell_type": "code",
   "execution_count": null,
   "metadata": {},
   "outputs": [],
   "source": [
    "print()"
   ]
  },
  {
   "cell_type": "markdown",
   "metadata": {},
   "source": [
    "You will often print string literals such as:"
   ]
  },
  {
   "cell_type": "code",
   "execution_count": null,
   "metadata": {},
   "outputs": [],
   "source": [
    "print(\"Data loading complete.\")"
   ]
  },
  {
   "cell_type": "markdown",
   "metadata": {},
   "source": [
    "Or using a variable:"
   ]
  },
  {
   "cell_type": "code",
   "execution_count": null,
   "metadata": {},
   "outputs": [],
   "source": [
    "a = 'apple'\n",
    "print(a)"
   ]
  },
  {
   "cell_type": "code",
   "execution_count": null,
   "metadata": {},
   "outputs": [],
   "source": [
    "print(\"The print() function did this.\")"
   ]
  },
  {
   "cell_type": "markdown",
   "metadata": {},
   "source": [
    "The ```print()``` function also takes parameters such as the ```sep``` and ```end``` parameters, which overrides the default separator with the specified separator and the end of line character."
   ]
  },
  {
   "cell_type": "code",
   "execution_count": null,
   "metadata": {},
   "outputs": [],
   "source": [
    "print(\"Item 1\",\"Item 2\", sep=\"|\")\n",
    "print(\"This entire sentence is on\", end=\" \")\n",
    "print(\"one line.\")"
   ]
  },
  {
   "cell_type": "markdown",
   "metadata": {},
   "source": [
    "The type() function takes a value or object and returns its type."
   ]
  },
  {
   "cell_type": "code",
   "execution_count": null,
   "metadata": {},
   "outputs": [],
   "source": [
    "# Print and Type functions \n",
    "print(type(3.141))"
   ]
  },
  {
   "cell_type": "code",
   "execution_count": null,
   "metadata": {},
   "outputs": [],
   "source": [
    "# Print the highest value using the max() function. This is a function within a function.\n",
    "print(max(1,10,3,4,5))"
   ]
  },
  {
   "cell_type": "code",
   "execution_count": null,
   "metadata": {},
   "outputs": [],
   "source": [
    "# Print the longest word. Note that the len function is applied to each item \n",
    "#   in the list and the high number is returned.\n",
    "words = ['apple', 'court', 'banana','z'] # words is a list. See the Data Structures section in Part 3.\n",
    "print(max(words))\n",
    "print(max(words, key=len))"
   ]
  },
  {
   "cell_type": "code",
   "execution_count": null,
   "metadata": {},
   "outputs": [],
   "source": [
    "#Display the number of characters (including the white space) in \"Hello, world!\"\n",
    "len('Hello, world!')"
   ]
  },
  {
   "cell_type": "markdown",
   "metadata": {},
   "source": [
    "To obtain input from the user, use the input() function."
   ]
  },
  {
   "cell_type": "code",
   "execution_count": null,
   "metadata": {},
   "outputs": [],
   "source": [
    "user_name = input(\"What is your name?\")\n",
    "print(\"Hi, \", user_name)"
   ]
  },
  {
   "cell_type": "code",
   "execution_count": null,
   "metadata": {},
   "outputs": [],
   "source": [
    "user_age = input(\"How old are you?\")\n",
    "print(user_age, type(user_age))"
   ]
  },
  {
   "cell_type": "markdown",
   "metadata": {},
   "source": [
    "## Type Converstion Functions\n",
    "\n",
    "Python includes functions to convert values from one data type to another. \n",
    "\n",
    "For example, when requesting a number value from a user you may need to convert the resulting string input to an number type such as int."
   ]
  },
  {
   "cell_type": "code",
   "execution_count": null,
   "metadata": {},
   "outputs": [],
   "source": [
    "# Input values are strings. Convert strings to appropriate number type, if necessary.\n",
    "# Enter decimal value....error.\n",
    "\n",
    "tirepressure = int(input(\"Input current tire pressure:\"))\n",
    "\n",
    "if tirepressure < 32:\n",
    "    print(\"Add air to tire.\")\n",
    "else:\n",
    "    print(f\"At {tirepressure} psi the tire does not require additional air pressure.\")"
   ]
  },
  {
   "cell_type": "markdown",
   "metadata": {
    "toc-hr-collapsed": false
   },
   "source": [
    "## Misc Functions\n",
    "Below are common functions and explanations of how they work and when you might use them."
   ]
  },
  {
   "cell_type": "markdown",
   "metadata": {},
   "source": [
    "## Accessing functions in modules\n",
    "\n",
    "One of the strengths of the Python language is the large number of modules available to it. To add functionality to your program, you make modules available using the import keyword. Below we import the math module and the random module.\n"
   ]
  },
  {
   "cell_type": "code",
   "execution_count": null,
   "metadata": {},
   "outputs": [],
   "source": [
    "# Get colume of a sphere using radius (r)\n",
    "\n",
    "import math\n",
    "\n",
    "def get_sphere_volume(r):\n",
    "    \"\"\"Returns volume of a sphere given the radius (r).\"\"\"\n",
    "    \n",
    "    #Use the pi constant from the math module \n",
    "    volume = (4/3) * math.pi * r**3\n",
    "    return volume\n",
    "\n",
    "#Call the function to find the volume of a sphere with a radius of 2.\n",
    "get_sphere_volume(2)"
   ]
  },
  {
   "cell_type": "markdown",
   "metadata": {},
   "source": [
    "### Generating random numbers\n",
    "To generate random numbers, use the random module. Note that this module is not designed for cryptographic use. "
   ]
  },
  {
   "cell_type": "code",
   "execution_count": null,
   "metadata": {},
   "outputs": [],
   "source": [
    "# NameError if random module is not imported\n",
    "import random\n",
    "\n",
    "\n",
    "# Print 10 numbers between 1 and 100 (inclusive)\n",
    "for x in range(10):\n",
    "  print(x,random.randint(1,101))"
   ]
  },
  {
   "cell_type": "code",
   "execution_count": null,
   "metadata": {},
   "outputs": [],
   "source": [
    "help(random.randint)"
   ]
  },
  {
   "cell_type": "markdown",
   "metadata": {},
   "source": [
    "## Creating your own Functions\n",
    "Use the def keyword to define custom functions. Empty parentheses following the function name indicate the function takes no arguments."
   ]
  },
  {
   "cell_type": "code",
   "execution_count": null,
   "metadata": {},
   "outputs": [],
   "source": [
    "def print_lyrics():\n",
    "    \"\"\" Prints lumberjack lyrics. How cool! \"\"\"\n",
    "    print(\"I'm a lumberjack and I'm okay.\")\n",
    "   "
   ]
  },
  {
   "cell_type": "code",
   "execution_count": null,
   "metadata": {},
   "outputs": [],
   "source": [
    " def repeat_lyrics():\n",
    "    print_lyrics()\n",
    "    print_lyrics()\n",
    "    \n",
    "repeat_lyrics()"
   ]
  },
  {
   "cell_type": "markdown",
   "metadata": {},
   "source": [
    "## Docstrings\n",
    "Docstrings (documentation strings) provide a helpful and convenient method of\n",
    "displaying documentation with Python modules, functions, classes, and methods. \n",
    "\n",
    "An object's docsting is defined by including a string constant as the first\n",
    "statement in the object's definition and can be viewed by calling help(function)."
   ]
  },
  {
   "cell_type": "code",
   "execution_count": null,
   "metadata": {},
   "outputs": [],
   "source": [
    "help(print_lyrics)"
   ]
  },
  {
   "cell_type": "markdown",
   "metadata": {
    "tags": []
   },
   "source": [
    "## Passing values\n",
    "Functions defined with arguments accept values. "
   ]
  },
  {
   "cell_type": "code",
   "execution_count": null,
   "metadata": {},
   "outputs": [],
   "source": [
    "def print_stuff(mystuff):\n",
    "    \"\"\" Prints the string passed to it. \"\"\"\n",
    "    print(mystuff)\n",
    "    \n",
    "newstuff = \"really cool stuff\"\n",
    "print_stuff(newstuff)"
   ]
  },
  {
   "cell_type": "markdown",
   "metadata": {},
   "source": [
    "### Optional arguments\n",
    "The parameter in the previous function is required. Attempting to run the function without the parameter results in an error.\n",
    "\n",
    "In addition to required positional arguments, Python allows optional arguments. All required positional arguments must precede optional arguments."
   ]
  },
  {
   "cell_type": "code",
   "execution_count": null,
   "metadata": {},
   "outputs": [],
   "source": [
    "# Optional arguments\n",
    "def print_stuff(my_stuff=\"no stuff\"):\n",
    "    print(my_stuff)\n",
    "    \n",
    "print_stuff()"
   ]
  },
  {
   "cell_type": "code",
   "execution_count": null,
   "metadata": {},
   "outputs": [],
   "source": [
    "print_stuff(\"goodwill stuff\")"
   ]
  },
  {
   "cell_type": "code",
   "execution_count": null,
   "metadata": {},
   "outputs": [],
   "source": [
    "# Function using keyword and default arguments\n",
    "def calc_tip(amount, percentage = .15):\n",
    "    \"\"\" Calculate a tip based on an amount. 15% is default. \"\"\"\n",
    "    tip = amount * percentage\n",
    "    return tip\n",
    "\n",
    "my_tip = calc_tip(10)\n",
    "\n",
    "print(my_tip)"
   ]
  },
  {
   "cell_type": "code",
   "execution_count": null,
   "metadata": {},
   "outputs": [],
   "source": [
    "print(calc_tip(10, .25))"
   ]
  },
  {
   "cell_type": "markdown",
   "metadata": {},
   "source": [
    "### \\*args and \\*\\*kwargs\n",
    "The \\* symbol (by convention \\*args) enables a variable number of positional arguments to be passed to a function. "
   ]
  },
  {
   "cell_type": "code",
   "execution_count": null,
   "metadata": {},
   "outputs": [],
   "source": [
    "# Passing a variable number of parameters\n",
    "def print_grades(*args):\n",
    "    number_of_grades = len(args)\n",
    "    sum_of_grades = sum(args)\n",
    "    avg_grade = sum_of_grades/number_of_grades\n",
    "    print(args, type(args))\n",
    "    print(f\"Average grade = {avg_grade}\")\n",
    "    \n",
    "print_grades(88,99,56,100,92)"
   ]
  },
  {
   "cell_type": "code",
   "execution_count": null,
   "metadata": {},
   "outputs": [],
   "source": [
    "print_grades(88,82,99,97,89,100,84,96,92,92,90)"
   ]
  },
  {
   "cell_type": "markdown",
   "metadata": {},
   "source": [
    "Using ```*args``` is by convention, not by requirement. Though others might expect to see it, so it may be useful to stick with the convention."
   ]
  },
  {
   "cell_type": "code",
   "execution_count": null,
   "metadata": {},
   "outputs": [],
   "source": [
    "# Passing a variable number of parameters\n",
    "def print_grades(*grades):\n",
    "    number_of_grades = len(grades)\n",
    "    sum_of_grades = sum(grades)\n",
    "    avg_grade = sum_of_grades/number_of_grades\n",
    "    print(grades)\n",
    "    print(f\"Average grade = {avg_grade}\")\n",
    "    \n",
    "print_grades(88,99,56,100,92)\n",
    "print_grades(88,82,99,97,89,100,84,96,92,92,90)"
   ]
  },
  {
   "cell_type": "code",
   "execution_count": null,
   "metadata": {},
   "outputs": [],
   "source": [
    "# Passing a variable number of parameters and iterating through them\n",
    "def print_grades(*grades):\n",
    "    for grade in grades:\n",
    "        if grade == 100:\n",
    "            print(\"Wow, a perfect score!!\")\n",
    "    \n",
    "print_grades(88,99,56,100,92)\n",
    "print_grades(88,82,99,97,89,100,84,96,92,92,90)"
   ]
  },
  {
   "cell_type": "code",
   "execution_count": null,
   "metadata": {},
   "outputs": [],
   "source": [
    "# Passing a variable number of parameters and iterating through them\n",
    "def print_grades(*grades):\n",
    "    for grade in grades:\n",
    "        print(grade)\n",
    "\n",
    "# Pass grades via a function    \n",
    "print_grades(88,99,56,100,92)\n",
    "\n",
    "# Get input from the user\n",
    "grades = input(\"Enter grades separated by a comma:\")\n",
    "\n",
    "# Split the input by comma delimiter (results in a list)\n",
    "grades = grades.split(',')\n",
    "\n",
    "# Pass using the unpack operator\n",
    "print_grades(*grades)"
   ]
  },
  {
   "cell_type": "markdown",
   "metadata": {},
   "source": [
    "### Using **kwargs\n",
    "The \\*\\* symbol (by convention \\*\\*kwargs) enables a variable number of *key word* arguments to be passed to a function."
   ]
  },
  {
   "cell_type": "code",
   "execution_count": null,
   "metadata": {},
   "outputs": [],
   "source": [
    "# Passing a variable number of parameters\n",
    "def show_grades(**kwargs):\n",
    "    \n",
    "    print(f\"kwargs = {kwargs}\")\n",
    "    \n",
    "    print(\"Student - Grade\")\n",
    "    for key, value in kwargs.items():\n",
    "        print(f\"{key} - {value}\")\n",
    "    print() #blank line\n",
    "\n",
    "show_grades(Alice=[88,100],Joe=99,Jevontae=56,Subha=100,Kelly=92)"
   ]
  },
  {
   "cell_type": "code",
   "execution_count": null,
   "metadata": {},
   "outputs": [],
   "source": [
    "show_grades(Stewart=100,Mark=105,Joe=95,Eric=75)"
   ]
  },
  {
   "cell_type": "markdown",
   "metadata": {},
   "source": [
    "## What is the Dot Operator?\n",
    "Just about everything in Python is an object. The dot operator enables you to access attributes (statements) and methods (function) associated with the object. \n",
    "\n",
    "Press <TAB> after a dot to see a list of methods and properties associated with the object.\n",
    "\n",
    "In the following code, a dot operator is used to access the pi property of the math object:\n",
    "```Python\n",
    "<a_python_object.do_something()>\n",
    "- or -\n",
    "<a_python_object.access_an_attribute>\n",
    "\n",
    "# Attribute example:\n",
    "volume = (4/3) * math.pi * r**3\n",
    "\n",
    "# Method example:\n",
    "print(\"Hello\".upper())\n",
    "```"
   ]
  },
  {
   "cell_type": "code",
   "execution_count": null,
   "metadata": {},
   "outputs": [],
   "source": [
    "import math\n",
    "\n",
    "r =5\n",
    "volume = (4/3) * math.pi * r**3\n",
    "\n",
    "print(f\"volume = {volume}\")"
   ]
  },
  {
   "cell_type": "code",
   "execution_count": null,
   "metadata": {},
   "outputs": [],
   "source": [
    "# Using the upper() method on a string via the dot operator\n",
    "print(\"Hello!\".upper())"
   ]
  },
  {
   "cell_type": "code",
   "execution_count": null,
   "metadata": {},
   "outputs": [],
   "source": [
    "#What other functions are available in the math module? Use the dir() function to list a directory of math attributes.\n",
    "dir(math)"
   ]
  },
  {
   "cell_type": "markdown",
   "metadata": {},
   "source": [
    "## Lambda/Anonymous functions\n",
    "A lambda function, also called an anonymous function, behaves like a regular function, but is declared as a single-line function with no name (hence the term 'anonymous'). It can have any number of arguments, but only one expression."
   ]
  },
  {
   "cell_type": "code",
   "execution_count": null,
   "metadata": {},
   "outputs": [],
   "source": [
    "# Regular function calc_tip\n",
    "def area_circle(r):\n",
    "    \"\"\" Calculate the area of a circle. \"\"\"\n",
    "    area = 3.1415927 * r * r\n",
    "    return area\n",
    "\n",
    "area_circle(4)"
   ]
  },
  {
   "cell_type": "code",
   "execution_count": null,
   "metadata": {},
   "outputs": [],
   "source": [
    "# lambda version of area_circle()\n",
    "#   To use the anonymous function, set it equal to a variable  \n",
    "get_area = lambda x: 3.1415927 * x\n",
    "get_area(4)"
   ]
  },
  {
   "cell_type": "code",
   "execution_count": null,
   "metadata": {},
   "outputs": [],
   "source": [
    "# Using lambda inline\n",
    "customers = ['Will Hawkins', 'Stewart Pickard', 'John Davis Roberts', 'Will Roberts', 'Eric Devlin', 'R. Joe Bechtold']\n",
    "\n",
    "# Key is the sorting critera, split on the space, get the last element, convert it to lowercaseand then sort the list\n",
    "customers.sort(key=lambda x: x.split(\" \")[-1].lower())\n",
    "\n",
    "# Print the newly sorted list\n",
    "print(customers)"
   ]
  },
  {
   "cell_type": "code",
   "execution_count": null,
   "metadata": {},
   "outputs": [],
   "source": [
    "# Even or odd example\n",
    "(lambda x: x % 2 and 'odd' or 'even')(3)"
   ]
  },
  {
   "cell_type": "markdown",
   "metadata": {},
   "source": [
    "## Void and Return Functions\n",
    "Functions that do not return values are called void functions."
   ]
  },
  {
   "cell_type": "code",
   "execution_count": null,
   "metadata": {},
   "outputs": [],
   "source": [
    "def addtwo(a,b):\n",
    "    \"\"\" Returns the sum of two numbers.\"\"\"\n",
    "    added = a + b\n",
    "    return added\n",
    "\n",
    "z = addtwo(1,2) * 10\n",
    "print(\"hi\")"
   ]
  },
  {
   "cell_type": "code",
   "execution_count": null,
   "metadata": {},
   "outputs": [],
   "source": [
    "print(z)"
   ]
  },
  {
   "cell_type": "code",
   "execution_count": null,
   "metadata": {},
   "outputs": [],
   "source": [
    "print(addtwo(3,5))"
   ]
  },
  {
   "cell_type": "markdown",
   "metadata": {},
   "source": [
    "## Currency and date formatting functions\n",
    "Because currency and date formats vary by locale, a recommended way of formatting currency and dates is to use the ```locale``` module. The ```locale``` module accesses the region-specific symbols for date and currency rules configured in your operating system and applies it to the value format.\n",
    "\n",
    "```Python\n",
    "currency = \"${:,.2f}\".format(amount)\n",
    "````"
   ]
  },
  {
   "cell_type": "code",
   "execution_count": null,
   "metadata": {},
   "outputs": [],
   "source": [
    "import locale\n",
    "import datetime\n",
    "\n",
    "#Sets locale for all categories to the user's default setting\n",
    "locale.setlocale(locale.LC_ALL, '')\n",
    "\n",
    "#To add commas, set grouping = True\n",
    "print(locale.currency(100000.55977, grouping=True))\n",
    "\n",
    "today = datetime.date.today()\n",
    "print(today)"
   ]
  },
  {
   "cell_type": "code",
   "execution_count": null,
   "metadata": {},
   "outputs": [],
   "source": [
    "# You can also use a '$' and set precision to two places after the decimal\n",
    "amount = 1233.67\n",
    "currency = \"${:,.2f}\".format(amount)\n",
    "print(currency)"
   ]
  },
  {
   "cell_type": "code",
   "execution_count": null,
   "metadata": {},
   "outputs": [],
   "source": [
    "#Source: https://www.programiz.com/python-programming/datetime#datetime\n",
    "now = datetime.datetime.now() # current date and time\n",
    "now"
   ]
  },
  {
   "cell_type": "markdown",
   "metadata": {},
   "source": [
    "## strptime and strftime functions\n",
    "```strptime``` is short for *parse time* while the ```strftime``` function means is *formatting time*. \n",
    "\n",
    "```strptime``` is the opposite of ```strftime``` though they use, conveniently, the same formatting specification."
   ]
  },
  {
   "cell_type": "code",
   "execution_count": null,
   "metadata": {},
   "outputs": [],
   "source": [
    "year = now.strftime(\"%Y\")\n",
    "print(\"year:\", year)\n",
    "\n",
    "month = now.strftime(\"%m\")\n",
    "print(\"month:\", month)\n",
    "\n",
    "day = now.strftime(\"%d\")\n",
    "print(\"day:\", day)\n",
    "\n",
    "time = now.strftime(\"%H:%M:%S\")\n",
    "print(\"time:\", time)\n",
    "\n",
    "date_time = now.strftime(\"%m/%d/%Y, %H:%M:%S\")\n",
    "print(\"date and time:\",date_time)\t"
   ]
  },
  {
   "cell_type": "markdown",
   "metadata": {},
   "source": [
    "## Using datetime functions"
   ]
  },
  {
   "cell_type": "code",
   "execution_count": null,
   "metadata": {},
   "outputs": [],
   "source": [
    "#Source: https://www.programiz.com/python-programming/datetime#datetime\n",
    "\n",
    "from datetime import datetime, date\n",
    "\n",
    "t1 = date(year = 2018, month = 7, day = 12)\n",
    "t2 = date(year = 2017, month = 12, day = 23)\n",
    "t3 = t1 - t2\n",
    "print(\"t3 =\", t3)\n",
    "\n",
    "t4 = datetime(year = 2019, month = 1, day = 12, hour = 7, minute = 9, second = 33)\n",
    "t5 = datetime(year = 2019, month = 12, day = 25, hour = 5, minute = 55, second = 13)\n",
    "t6 = t5 - t4\n",
    "print(\"t6 =\", t6)\n",
    "\n",
    "print(\"type of t3 =\", type(t3)) \n",
    "print(\"type of t6 =\", type(t6))"
   ]
  },
  {
   "cell_type": "markdown",
   "metadata": {},
   "source": [
    "## Magic functions\n",
    "\n"
   ]
  },
  {
   "cell_type": "code",
   "execution_count": null,
   "metadata": {},
   "outputs": [],
   "source": [
    "# TimeIt magic function"
   ]
  },
  {
   "cell_type": "markdown",
   "metadata": {},
   "source": [
    "### Environment variables"
   ]
  },
  {
   "cell_type": "code",
   "execution_count": null,
   "metadata": {},
   "outputs": [],
   "source": [
    "env_name = %env CONDA_DEFAULT_ENV"
   ]
  },
  {
   "cell_type": "code",
   "execution_count": null,
   "metadata": {},
   "outputs": [],
   "source": [
    "print(env_name)"
   ]
  },
  {
   "cell_type": "code",
   "execution_count": null,
   "metadata": {},
   "outputs": [],
   "source": [
    "env_dict = %env"
   ]
  },
  {
   "cell_type": "code",
   "execution_count": null,
   "metadata": {},
   "outputs": [],
   "source": [
    "env_dict # All environemnt information"
   ]
  },
  {
   "cell_type": "code",
   "execution_count": null,
   "metadata": {},
   "outputs": [],
   "source": [
    "env_dict['PWD'] # Get the working directory"
   ]
  },
  {
   "cell_type": "code",
   "execution_count": null,
   "metadata": {},
   "outputs": [],
   "source": [
    "%env"
   ]
  },
  {
   "cell_type": "markdown",
   "metadata": {
    "tags": [],
    "toc-nb-collapsed": true
   },
   "source": [
    "# String Operations\n",
    "Text in Python is represented by a string. A string is an immutable array of unicode characters. This means that once defined, they cannot be changed. You can access (but not change) characters one at a time using the bracket [] operator."
   ]
  },
  {
   "cell_type": "markdown",
   "metadata": {},
   "source": [
    "## Strings are arrays\n",
    "Because strings are stored as an array, you may access characters using array notation."
   ]
  },
  {
   "cell_type": "code",
   "execution_count": null,
   "metadata": {},
   "outputs": [],
   "source": [
    "x = 'Guardians of the Galaxy Vol. 1'\n",
    "print(x[0:6]) # Print the first six characters"
   ]
  },
  {
   "cell_type": "code",
   "execution_count": null,
   "metadata": {},
   "outputs": [],
   "source": [
    "print(x[-5:]) # Print the last 5 characters"
   ]
  },
  {
   "cell_type": "markdown",
   "metadata": {},
   "source": [
    "## Strings are immutable\n",
    "However, like tuples strings cannot be changed."
   ]
  },
  {
   "cell_type": "code",
   "execution_count": null,
   "metadata": {},
   "outputs": [],
   "source": [
    "# Error: Strings are immutable\n",
    "print(x[29])\n",
    "x[29] = '2' # Change Vol. 1 to Vol. 2"
   ]
  },
  {
   "cell_type": "code",
   "execution_count": null,
   "metadata": {},
   "outputs": [],
   "source": [
    "# Instead of attempting to change the array, reassign the variable to the new value\n",
    "x = \"Guardians of the Galaxy Vol. 2\""
   ]
  },
  {
   "cell_type": "markdown",
   "metadata": {},
   "source": [
    "## Escape characters and raw strings\n",
    "Prefix a string with ‘r’ or ‘R’ to force Python to treat backslash (\\) as a literal character.\n",
    "E.g., Windows file paths\n",
    "\n",
    "| Escape Character | Prints as |\n",
    "|------------------|-----------|\n",
    "| \\\\' | Single quote\n",
    "| \\\\\" | Double quote\n",
    "| \\\\t | Tab\n",
    "| \\\\n | Newline (line break)\n",
    "| \\\\ | Backslash\n",
    "\n"
   ]
  },
  {
   "cell_type": "code",
   "execution_count": null,
   "metadata": {},
   "outputs": [],
   "source": [
    "# Error - unexpected escape characters\n",
    "file_path = \"c:\\users\\gregb\\documents\\python_projects\"\n",
    "print(file_path)"
   ]
  },
  {
   "cell_type": "code",
   "execution_count": null,
   "metadata": {},
   "outputs": [],
   "source": [
    "# Escaping backslash for file name\n",
    "file_path = \"c:\\\\users\\\\gregb\\\\documents\\\\python_projects\"\n",
    "print(file_path)"
   ]
  },
  {
   "cell_type": "code",
   "execution_count": null,
   "metadata": {},
   "outputs": [],
   "source": [
    "# Using raw string\n",
    "file_path = r\"c:\\users\\gregb\\documents\\python_projects\"\n",
    "print(file_path)"
   ]
  },
  {
   "cell_type": "markdown",
   "metadata": {},
   "source": [
    "## Using single, double, and triple quotes\n",
    "You may use either single, double, or triple quotes. Use double or triple quotes when a string contains a single apostrophe, double apostrophe or both."
   ]
  },
  {
   "cell_type": "code",
   "execution_count": null,
   "metadata": {},
   "outputs": [],
   "source": [
    "#Single quotes specify a string.\n",
    "howdy = 'hello, world!'\n",
    "print(howdy)"
   ]
  },
  {
   "cell_type": "code",
   "execution_count": null,
   "metadata": {},
   "outputs": [],
   "source": [
    "#Double quotes also specify a string.\n",
    "statement = \"I'm a Python programmer.\"\n",
    "print(statement)"
   ]
  },
  {
   "cell_type": "code",
   "execution_count": null,
   "metadata": {},
   "outputs": [],
   "source": [
    "# Triple quotes specify a string AND can span lines.\n",
    "prov_12_16 = \"\"\"A fool's annoyance is known at once,\n",
    "but the prudent overlooks an insult.\"\"\"\n",
    "print(prov_12_16)"
   ]
  },
  {
   "cell_type": "code",
   "execution_count": null,
   "metadata": {},
   "outputs": [],
   "source": [
    "#To print quotes, you can use the escape character (\\)\n",
    "as_good_as_it_gets = 'Sell crazy someplace else. We\\'re all stocked up here.'\n",
    "print(as_good_as_it_gets)"
   ]
  },
  {
   "cell_type": "code",
   "execution_count": null,
   "metadata": {},
   "outputs": [],
   "source": [
    "#Triple quotes are helpful when you want to display single or double quotes within a string without using an escape character.\n",
    "cannoli = \"\"\"Clamenza said, \\\"Leave the gun, take the cannoli.\\\" It's one of my 'fav' movie quotes. \"\"\"\n",
    "print(cannoli)"
   ]
  },
  {
   "cell_type": "markdown",
   "metadata": {},
   "source": [
    "## String Capitalization"
   ]
  },
  {
   "cell_type": "code",
   "execution_count": null,
   "metadata": {},
   "outputs": [],
   "source": [
    "# Capitalize the first word\n",
    "print(howdy.capitalize())"
   ]
  },
  {
   "cell_type": "code",
   "execution_count": null,
   "metadata": {},
   "outputs": [],
   "source": [
    "# Capitalize each word\n",
    "print(howdy.title())\n",
    "print(\"this is title case\".title())"
   ]
  },
  {
   "cell_type": "code",
   "execution_count": null,
   "metadata": {},
   "outputs": [],
   "source": [
    "# Capitalize each word\n",
    "print(howdy.upper())\n",
    "print(\"this is all capps\".upper())\n",
    "\n",
    "#Use upper() to compare strings ignoring case\n",
    "myfavfruit = \"Kiwi\"\n",
    "\n",
    "if myfavfruit.upper() == \"KIWI\":\n",
    "    print(\"That's my fav!\")\n",
    "else:\n",
    "    print(\"Not my fav\")"
   ]
  },
  {
   "cell_type": "code",
   "execution_count": null,
   "metadata": {},
   "outputs": [],
   "source": [
    "book_title = \"THE UNOFFICIAL GUIDE TO ETHICAL HACKING\"\n",
    "\n",
    "# Lowercase\n",
    "print(book_title.lower())"
   ]
  },
  {
   "cell_type": "markdown",
   "metadata": {},
   "source": [
    "## String Concatenation\n",
    "\n",
    "Use the '+' operator to join strings."
   ]
  },
  {
   "cell_type": "code",
   "execution_count": null,
   "metadata": {},
   "outputs": [],
   "source": [
    "first_name = \"Gregory\"\n",
    "middle_initial = \"J\"\n",
    "last_name = \"Bott\"\n",
    "\n",
    "full_name = first_name + \" \" + middle_initial + \" \" + last_name + \", Ph.D.\"\n",
    "print(full_name)"
   ]
  },
  {
   "cell_type": "markdown",
   "metadata": {},
   "source": [
    "## Removing white space\n",
    "A common task when working with data is to remove white space (spaces, tabs, newlines) from the beginning and end of a string. to remove white space use the **strip** method."
   ]
  },
  {
   "cell_type": "code",
   "execution_count": null,
   "metadata": {},
   "outputs": [],
   "source": [
    "# value is preceded by three tabs and followed by a line break\n",
    "data_column = \"\\t\\t\\t 133422.88\\n\"\n",
    "print(str(data_column) + \"[end]\")\n",
    "\n",
    "#tabs and the line break are stripped from the string\n",
    "print(data_column.strip() + \"[end]\")"
   ]
  },
  {
   "cell_type": "markdown",
   "metadata": {},
   "source": [
    "## Format Operator\n",
    "To substitute values from variables or functions into a string, use the *format operator* %. \n",
    "\n",
    "Do not confuse % with modulus operator. In the statement, 4 % 2 = 0 '%' is the modulus operator. \n",
    "\n",
    "Instead of using the % operator between integers as in the modulus operator, the *format operator* is used within a string.\n",
    "<br>%d = signed integer decimal\n",
    "<br>%s = string\n",
    "<br>%f = float\n",
    "\n",
    "For more conversion types go to https://docs.python.org/3/library/stdtypes.html#old-string-formatting"
   ]
  },
  {
   "cell_type": "code",
   "execution_count": null,
   "metadata": {},
   "outputs": [],
   "source": [
    "b_of_b_on_wall = 5\n",
    "beverage = \"beer\"\n",
    "\n",
    "for bottle_num in range(5,0,-1):\n",
    "    print(\"%d bottles of %s on the wall, %d bottles of %s.\" % (bottle_num, beverage, bottle_num, beverage))\n",
    "    print(\"Take one down and pass it around, %d bottles of %s on the wall.\" % (int(bottle_num)-1, beverage))\n",
    "    "
   ]
  },
  {
   "cell_type": "markdown",
   "metadata": {},
   "source": [
    "## Using str.format()\n",
    "The format operator is a good option, but when you have multiple placeholders in a string, code becomes less readable. \n",
    "\n",
    "One advantage of the str.format() method is that you can use the replacement fields in any order. Simply use their index values."
   ]
  },
  {
   "cell_type": "code",
   "execution_count": null,
   "metadata": {},
   "outputs": [],
   "source": [
    "name = \"Greg\"\n",
    "age = \"82\"\n",
    "\n",
    "print(\"Hello, {}. You are {}.\".format(name, age))"
   ]
  },
  {
   "cell_type": "code",
   "execution_count": null,
   "metadata": {},
   "outputs": [],
   "source": [
    "name = \"Greg\"\n",
    "age = \"82\"\n",
    "\n",
    "#Reference index to use out of sequence order.\n",
    "print(\"Hello, {1}. You are {0}.\".format(age, name))"
   ]
  },
  {
   "cell_type": "code",
   "execution_count": null,
   "metadata": {},
   "outputs": [],
   "source": [
    "# Formatting numbers\n",
    "print(\"You won ${:,.4f}\".format(312.57))"
   ]
  },
  {
   "cell_type": "code",
   "execution_count": null,
   "metadata": {},
   "outputs": [],
   "source": [
    "# Use dictionary values\n",
    "person = {'name': 'Greg', 'age': 82}\n",
    "print(\"Hello, {name}. You are {age}.\".format(**person))"
   ]
  },
  {
   "cell_type": "markdown",
   "metadata": {},
   "source": [
    "## Using f-Strings\n",
    "Beginning with Python 3.6, you can use f-strings (\"formatting string literals\"). The syntax for f-Strings is similar to str.format() but results in more readable code."
   ]
  },
  {
   "cell_type": "code",
   "execution_count": null,
   "metadata": {},
   "outputs": [],
   "source": [
    "name = \"Greg\"\n",
    "age = \"82\"\n",
    "\n",
    "print(f\"Hello, {name}. You are {age}.\")"
   ]
  },
  {
   "cell_type": "markdown",
   "metadata": {},
   "source": [
    "## Splitting and Joining strings"
   ]
  },
  {
   "cell_type": "code",
   "execution_count": null,
   "metadata": {},
   "outputs": [],
   "source": [
    "# Below is a database record exported using the pipe symbol (\"|\") to seprate fields\n",
    "exported_record = \"Quin J. Alford|Proin Company|Ap #664-5782 Felis St.|Butte|35565|MT|-72.72653, -167.07764|4716 4071 8086 1415|436|eu@pellentesque.net\"\n",
    "print(\"original data:\")\n",
    "print(exported_record)\n",
    "print()\n",
    "\n",
    "#Split the data at each pipe symbol. The result of the split function is a Python list (essentially an array)\n",
    "exported_record = exported_record.split(\"|\")\n",
    "print(\"converted to a list: \")\n",
    "print(exported_record)\n",
    "print()"
   ]
  },
  {
   "cell_type": "code",
   "execution_count": null,
   "metadata": {},
   "outputs": [],
   "source": [
    "#Print the first and last member of the list. Acess the first element (element 0), and the last element (-1).\n",
    "#The second to last element would be accessed using [-2].\n",
    "print(\"Name: \" + exported_record[0], \"   email: \" + exported_record[-1] +\"\\n\")\n",
    "\n",
    "#Join the list by comma and store in exported_record\n",
    "exported_record_csv = \",\".join(exported_record)\n",
    "print(exported_record_csv)"
   ]
  },
  {
   "cell_type": "markdown",
   "metadata": {},
   "source": [
    "## Find() method for strings"
   ]
  },
  {
   "cell_type": "code",
   "execution_count": null,
   "metadata": {},
   "outputs": [],
   "source": [
    "gburg_text = \"Four score and seven years ago our fathers brought forth on this continent, a new nation, conceived in Liberty, and dedicated to the proposition that all men are created equal.\"\n",
    "\n",
    "#Find first instance of a word, find(value, start default = 0, end default = end of string)\n",
    "find_pos = gburg_text.find(\"score\")\n",
    "print(find_pos)"
   ]
  },
  {
   "cell_type": "markdown",
   "metadata": {
    "toc-hr-collapsed": true,
    "toc-nb-collapsed": true
   },
   "source": [
    "# File Operations\n",
    "\n",
    "Use the open() function to read(r), append (a), or write (w) to a file. Opening a file returns a file handle, not the actual data in the file. After opening the file you can read or write to it. When you are finished with the file, ensure it is closed. Failing to close a file may lead to memory issues, inaccessible files, and possibly data loss."
   ]
  },
  {
   "cell_type": "code",
   "execution_count": null,
   "metadata": {},
   "outputs": [],
   "source": [
    "%cat demofile.txt"
   ]
  },
  {
   "cell_type": "code",
   "execution_count": null,
   "metadata": {},
   "outputs": [],
   "source": [
    "# use the os module to access operating system information such as the current working directory (getcwd())\n",
    "import os\n",
    "\n",
    "# Create (or overwrite) a file\n",
    "# If no path is specified, the file will be created in the current working directory\n",
    "\n",
    "# If the file exists, opening with the \"w\" parameter will overwrite a file of the same name\n",
    "#   if present in the same folder. To append instead of overwriting, use the \"a\" mode.\n",
    "f = open(\"demofile.txt\", \"w\")\n",
    "\n",
    "f.write(\"This is the first line of the file.\\n\")\n",
    "\n",
    "# Be sure to close your file. Failure to do so will cause problems.\n",
    "f.close()\n",
    "\n",
    "# Get the current directory\n",
    "print(os.getcwd())"
   ]
  },
  {
   "cell_type": "markdown",
   "metadata": {},
   "source": [
    "## Using the With statement for opening files\n",
    "One advantage to using the With statement is that files you open using this method are automatically closed."
   ]
  },
  {
   "cell_type": "code",
   "execution_count": null,
   "metadata": {},
   "outputs": [],
   "source": [
    "# Append the file\n",
    "with open(\"demofile.txt\", \"a\") as f:\n",
    "    f.write(\"This is the second line.\\n\")\n",
    "\n",
    "    # No need to explicitly close the file. Close() is automatically called."
   ]
  },
  {
   "cell_type": "code",
   "execution_count": null,
   "metadata": {},
   "outputs": [],
   "source": [
    "%cat demofile.txt"
   ]
  },
  {
   "cell_type": "markdown",
   "metadata": {
    "toc-hr-collapsed": false
   },
   "source": [
    "## Reading files\n",
    "There are several ways to read data from a file. Some of the methods to read a file include: reading a specified number of characters, reading line-by-line, or a reading number of lines."
   ]
  },
  {
   "cell_type": "markdown",
   "metadata": {},
   "source": [
    "### Reading an entire file"
   ]
  },
  {
   "cell_type": "code",
   "execution_count": null,
   "metadata": {},
   "outputs": [],
   "source": [
    "import pathlib\n",
    "file_path = pathlib.Path('files/gettysburg.txt')\n",
    "with open(file_path,\"r\") as fh_getty:\n",
    "    #read() will access the entire file. Not a good option for large files.\n",
    "    print(fh_getty.read())"
   ]
  },
  {
   "cell_type": "code",
   "execution_count": null,
   "metadata": {},
   "outputs": [],
   "source": [
    "with open(file_path,\"r\") as fh_getty:\n",
    "    n = 100\n",
    "    #read() will access the entire file. Not a good option for large files.\n",
    "    print(fh_getty.read(n)) # Read the first n characters"
   ]
  },
  {
   "cell_type": "code",
   "execution_count": null,
   "metadata": {},
   "outputs": [],
   "source": [
    "with open(file_path,\"r\") as fh_getty:    \n",
    "    #read() will access the entire file. Not a good option for large files.\n",
    "    print(fh_getty.readline()) # Read a line\n",
    "    print(fh_getty.readline()) # Read a line\n",
    "    print(fh_getty.readline()) # Read a line"
   ]
  },
  {
   "cell_type": "code",
   "execution_count": null,
   "metadata": {},
   "outputs": [],
   "source": [
    "with open(file_path,\"r\") as fh_getty:    \n",
    "    #read() will access the entire file. Not a good option for large files.\n",
    "    x = fh_getty.readlines() # Read all lines with new line characters, separated by commas\n",
    "    print(x[5])"
   ]
  },
  {
   "cell_type": "code",
   "execution_count": null,
   "metadata": {},
   "outputs": [],
   "source": [
    "with open(file_path,\"r\") as fh_getty:\n",
    "    line_number = 0\n",
    "    for x in fh_getty: # \"x\" will represent a line\n",
    "        print(str(line_number) + \": \" + x)\n",
    "        line_number += 1"
   ]
  },
  {
   "cell_type": "code",
   "execution_count": null,
   "metadata": {},
   "outputs": [],
   "source": [
    "customer_file = pathlib.Path(r'files/fake_customer_list.txt')\n",
    "with open(customer_file, 'r') as fh_customers:\n",
    "\n",
    "    for line in fh_customers:\n",
    "        #print(line)\n",
    "        customer_list = line.strip().split(\"|\")\n",
    "        full_name = customer_list[0]\n",
    "        email = customer_list[-1]\n",
    "        print(full_name + \" -- \" + email)        "
   ]
  },
  {
   "cell_type": "code",
   "execution_count": null,
   "metadata": {},
   "outputs": [],
   "source": [
    "# List files in the current directory \n",
    "import os\n",
    "import pprint as pp # 'pretty prints' the output in a column\n",
    "pp.pprint(os.listdir(os.getcwd()))"
   ]
  },
  {
   "cell_type": "code",
   "execution_count": null,
   "metadata": {},
   "outputs": [],
   "source": [
    "# 'Magic' command to list files in current directory\n",
    "%ls"
   ]
  },
  {
   "cell_type": "markdown",
   "metadata": {},
   "source": [
    "### Use the CSV module to read a file"
   ]
  },
  {
   "cell_type": "code",
   "execution_count": null,
   "metadata": {},
   "outputs": [],
   "source": [
    "import csv\n",
    "with open('./files/lyricsonly2M.csv', 'r') as f:\n",
    "    reader = csv.reader(f)\n",
    "    your_list = list(reader)"
   ]
  },
  {
   "cell_type": "code",
   "execution_count": null,
   "metadata": {},
   "outputs": [],
   "source": [
    "pp.pprint(your_list[:99])"
   ]
  },
  {
   "cell_type": "code",
   "execution_count": null,
   "metadata": {},
   "outputs": [],
   "source": [
    "len(your_list)"
   ]
  },
  {
   "cell_type": "code",
   "execution_count": null,
   "metadata": {},
   "outputs": [],
   "source": [
    "import pandas as pd\n",
    "df_lyrics = pd.DataFrame(your_list, columns=your_list[0])"
   ]
  },
  {
   "cell_type": "code",
   "execution_count": null,
   "metadata": {},
   "outputs": [],
   "source": [
    "print(df_lyrics.shape)\n",
    "with pd.option_context('display.max_seq_items', None):\n",
    "    print(df_lyrics.head(5000))\n"
   ]
  },
  {
   "cell_type": "code",
   "execution_count": null,
   "metadata": {},
   "outputs": [],
   "source": [
    "print(your_list[0])"
   ]
  },
  {
   "cell_type": "markdown",
   "metadata": {},
   "source": [
    "## Writing to a File"
   ]
  },
  {
   "cell_type": "code",
   "execution_count": null,
   "metadata": {},
   "outputs": [],
   "source": [
    "import os\n",
    "with open('notebook_list.txt','w') as f:\n",
    "    for root, dirs, files in os.walk(\"~\", topdown=False):\n",
    "        for name in files:\n",
    "            if name.endswith('.ipynb'):\n",
    "                print(\"writing...\",os.path.join(root, name))\n",
    "                f.write(os.path.join(root, name)+\"\\n\")"
   ]
  },
  {
   "cell_type": "markdown",
   "metadata": {},
   "source": [
    "## Use Pandas to Read a file\n",
    "Although built-in file operations in Python may be useful for trivial matters, Pandas and Numpy are much more effective for reading, shaping, and analyzing data. Using these libraries is beyond the scope of this course, however, you should be aware of these libraries. See the Pandas notebook for more information."
   ]
  },
  {
   "cell_type": "code",
   "execution_count": null,
   "metadata": {},
   "outputs": [],
   "source": [
    "import pandas as pd\n",
    "\n",
    "df = pd.read_csv(\".\\\\files\\\\2017_instacart_products.csv\")\n",
    "df.head()"
   ]
  },
  {
   "cell_type": "code",
   "execution_count": null,
   "metadata": {},
   "outputs": [],
   "source": [
    "# Use the describe function to display descriptive statistics for numerical fields (even if that doesn't make sense...)\n",
    "df.describe()"
   ]
  },
  {
   "cell_type": "markdown",
   "metadata": {
    "toc-nb-collapsed": true
   },
   "source": [
    "# Working with Dates\n",
    "\n",
    "In Python, a date is not a data type. Use the datetime module to work with dates as date objects."
   ]
  },
  {
   "cell_type": "code",
   "execution_count": null,
   "metadata": {},
   "outputs": [],
   "source": [
    "import datetime\n",
    "\n",
    "datetime_obj = datetime.datetime.now()\n",
    "print(datetime_obj)"
   ]
  },
  {
   "cell_type": "markdown",
   "metadata": {
    "tags": [],
    "toc-hr-collapsed": true,
    "toc-nb-collapsed": true
   },
   "source": [
    "# Error Handling\n",
    "\n",
    "Types of errors:\n",
    "1. Syntatical\n",
    "2. Logical\n",
    "3. Runtime\n",
    "\n",
    "Robust programs anticipate and gracefully handle unexpected situations and errors. For example, when asking a user to input a number, a robust program gracefully handles unexpected or erroneous input. Another examples include attempting to open a file or connect to a database. When the interpreter encounters an error, execution stops and an Exception object is accessible.\n",
    "\n",
    "```Python\n",
    "try:\n",
    "    <code>\n",
    "except Exception:\n",
    "    pass\n",
    "else:\n",
    "    pass\n",
    "finally:\n",
    "    pass\n",
    "```\n",
    "\n",
    "Error handling enables the developer to gracefully respond to exceptions in code. Without error handling, users will be confronted with error output they may not understand and that stops execution. \n",
    "\n",
    "Instead, use error handling to communicate resolution steps to the user and continue execution or exit gracefully.\n",
    "\n",
    "The ```pass``` statement is a null statement. It does nothing and is discarded by the interpreter. "
   ]
  },
  {
   "cell_type": "code",
   "execution_count": 1,
   "metadata": {},
   "outputs": [
    {
     "ename": "SyntaxError",
     "evalue": "EOL while scanning string literal (862613083.py, line 2)",
     "output_type": "error",
     "traceback": [
      "\u001b[0;36m  File \u001b[0;32m\"/tmp/ipykernel_23326/862613083.py\"\u001b[0;36m, line \u001b[0;32m2\u001b[0m\n\u001b[0;31m    print('Hello, world)\u001b[0m\n\u001b[0m                        ^\u001b[0m\n\u001b[0;31mSyntaxError\u001b[0m\u001b[0;31m:\u001b[0m EOL while scanning string literal\n"
     ]
    }
   ],
   "source": [
    "# Syntatical error\n",
    "print('Hello, world)"
   ]
  },
  {
   "cell_type": "code",
   "execution_count": 2,
   "metadata": {},
   "outputs": [
    {
     "ename": "FileNotFoundError",
     "evalue": "[Errno 2] No such file or directory: 'demo_file.txt'",
     "output_type": "error",
     "traceback": [
      "\u001b[0;31m---------------------------------------------------------------------------\u001b[0m",
      "\u001b[0;31mFileNotFoundError\u001b[0m                         Traceback (most recent call last)",
      "\u001b[0;32m/tmp/ipykernel_23326/2752126383.py\u001b[0m in \u001b[0;36m<module>\u001b[0;34m\u001b[0m\n\u001b[1;32m      1\u001b[0m \u001b[0;31m# Error: File Does not exist\u001b[0m\u001b[0;34m\u001b[0m\u001b[0;34m\u001b[0m\u001b[0m\n\u001b[0;32m----> 2\u001b[0;31m \u001b[0;32mwith\u001b[0m \u001b[0mopen\u001b[0m\u001b[0;34m(\u001b[0m\u001b[0;34m\"demo_file.txt\"\u001b[0m\u001b[0;34m,\u001b[0m \u001b[0;34m'r'\u001b[0m\u001b[0;34m)\u001b[0m \u001b[0;32mas\u001b[0m \u001b[0mf\u001b[0m\u001b[0;34m:\u001b[0m\u001b[0;34m\u001b[0m\u001b[0;34m\u001b[0m\u001b[0m\n\u001b[0m\u001b[1;32m      3\u001b[0m     \u001b[0mf\u001b[0m\u001b[0;34m.\u001b[0m\u001b[0mread\u001b[0m\u001b[0;34m(\u001b[0m\u001b[0;34m)\u001b[0m\u001b[0;34m\u001b[0m\u001b[0;34m\u001b[0m\u001b[0m\n",
      "\u001b[0;31mFileNotFoundError\u001b[0m: [Errno 2] No such file or directory: 'demo_file.txt'"
     ]
    }
   ],
   "source": [
    "# Error: File Does not exist\n",
    "with open(\"demo_file.txt\", 'r') as f:\n",
    "    f.read()"
   ]
  },
  {
   "cell_type": "markdown",
   "metadata": {},
   "source": [
    "## Using Try...Except"
   ]
  },
  {
   "cell_type": "code",
   "execution_count": 3,
   "metadata": {},
   "outputs": [
    {
     "name": "stdout",
     "output_type": "stream",
     "text": [
      "File not found.\n"
     ]
    }
   ],
   "source": [
    "# Wrap error-prone code in try...except blocks\n",
    "try:\n",
    "    with open(\"does_not_exist.txt\", 'r') as f:\n",
    "        f.read()\n",
    "    print('line after open file')\n",
    "except FileNotFoundError as e:\n",
    "    print(\"File not found.\")\n"
   ]
  },
  {
   "cell_type": "code",
   "execution_count": 12,
   "metadata": {},
   "outputs": [
    {
     "name": "stdout",
     "output_type": "stream",
     "text": [
      "hi\n",
      "ran without exception\n",
      "do logging here\n"
     ]
    }
   ],
   "source": [
    "# Wrap error-prone code in try...except blocks\n",
    "try:\n",
    "    # 5/0    \n",
    "    # with open(\"notyourfile.txt\", 'r') as f:\n",
    "    #     text = f.read()\n",
    "    # print(text)\n",
    "    print('hi')\n",
    "except FileNotFoundError as e:\n",
    "    print(\"File not found.\")\n",
    "except ZeroDivisionError as e:\n",
    "    print(\"Attempting to divide by zero!\")\n",
    "except Exception as e:\n",
    "    print(\"some other kind of error:\", e)\n",
    "else:\n",
    "    print(\"ran without exception\")\n",
    "finally:\n",
    "    print('do logging here')\n"
   ]
  },
  {
   "cell_type": "code",
   "execution_count": 13,
   "metadata": {},
   "outputs": [
    {
     "name": "stdout",
     "output_type": "stream",
     "text": [
      "[Errno 2] No such file or directory: 'demofile.txt' Please input the correct path and file name.\n"
     ]
    }
   ],
   "source": [
    "# To take specific actions, place the type of error after the except statement.\n",
    "#   This block will only catch FileNotFound errors\n",
    "try:\n",
    "    with open(\"demofile.txt\", 'r') as f:\n",
    "        f.read()\n",
    "    #newfile = myfile\n",
    "except FileNotFoundError as e:\n",
    "    print(e, \"Please input the correct path and file name.\")"
   ]
  },
  {
   "cell_type": "markdown",
   "metadata": {},
   "source": [
    "When handling multiple exceptions, sort your exception handling with the most specific at the top and the more general towards the bottom. Otherwise, the specific exceptions will never be caught."
   ]
  },
  {
   "cell_type": "code",
   "execution_count": 5,
   "metadata": {},
   "outputs": [
    {
     "name": "stdout",
     "output_type": "stream",
     "text": [
      "[Errno 2] No such file or directory: 'demofile.txt' Please input the correct path and file name.\n"
     ]
    }
   ],
   "source": [
    "# Use as many except statements as needed\n",
    "try:\n",
    "    with open(\"demofile.txt\", 'r') as f:\n",
    "        f.read()\n",
    "    newfile = myfile\n",
    "except FileNotFoundError as e:\n",
    "    print(e, \"Please input the correct path and file name.\") # Help users understand how to resolve the error\n",
    "except NameError as e:\n",
    "    print(e)"
   ]
  },
  {
   "cell_type": "markdown",
   "metadata": {},
   "source": [
    "## Using Else and Finally\n",
    "Use the ```else``` clause to run code if NO errors are thrown.\n",
    "Code in the ```finally``` block always runs--irrespective of whether an exception was caught."
   ]
  },
  {
   "cell_type": "code",
   "execution_count": null,
   "metadata": {},
   "outputs": [],
   "source": [
    "try:\n",
    "    with open(\"demofile.txt\", 'r') as f:\n",
    "        f.read()\n",
    "    newfile = \"\"\n",
    "except FileNotFoundError as e:\n",
    "    print(e, \"Please input the correct path and file name.\") # Help users understand how to resolve the error\n",
    "except NameError as e:\n",
    "    print(e)\n",
    "else:\n",
    "    print(\"No exceptions thrown.\")\n",
    "finally:\n",
    "    print(\"Opening file process completed.\")"
   ]
  },
  {
   "cell_type": "code",
   "execution_count": 14,
   "metadata": {},
   "outputs": [
    {
     "ename": "TypeError",
     "evalue": "Only integers are allowed",
     "output_type": "error",
     "traceback": [
      "\u001b[0;31m---------------------------------------------------------------------------\u001b[0m",
      "\u001b[0;31mTypeError\u001b[0m                                 Traceback (most recent call last)",
      "\u001b[0;32m/tmp/ipykernel_23326/160910231.py\u001b[0m in \u001b[0;36m<module>\u001b[0;34m\u001b[0m\n\u001b[1;32m      4\u001b[0m \u001b[0;34m\u001b[0m\u001b[0m\n\u001b[1;32m      5\u001b[0m \u001b[0;32mif\u001b[0m \u001b[0;32mnot\u001b[0m \u001b[0mtype\u001b[0m\u001b[0;34m(\u001b[0m\u001b[0mx\u001b[0m\u001b[0;34m)\u001b[0m \u001b[0;32mis\u001b[0m \u001b[0mint\u001b[0m\u001b[0;34m:\u001b[0m\u001b[0;34m\u001b[0m\u001b[0;34m\u001b[0m\u001b[0m\n\u001b[0;32m----> 6\u001b[0;31m   \u001b[0;32mraise\u001b[0m \u001b[0mTypeError\u001b[0m\u001b[0;34m(\u001b[0m\u001b[0;34m\"Only integers are allowed\"\u001b[0m\u001b[0;34m)\u001b[0m\u001b[0;34m\u001b[0m\u001b[0;34m\u001b[0m\u001b[0m\n\u001b[0m",
      "\u001b[0;31mTypeError\u001b[0m: Only integers are allowed"
     ]
    }
   ],
   "source": [
    "# You can also raise errors manually (outside try-except)\n",
    "\n",
    "x = \"hello\"\n",
    "\n",
    "if not type(x) is int:\n",
    "  raise TypeError(\"Only integers are allowed\") "
   ]
  },
  {
   "cell_type": "code",
   "execution_count": 15,
   "metadata": {},
   "outputs": [
    {
     "name": "stdout",
     "output_type": "stream",
     "text": [
      "Only integers are allowed\n"
     ]
    }
   ],
   "source": [
    "# Manually raising an error inside try..except\n",
    "try:\n",
    "    if not type(x) is int:\n",
    "        raise TypeError(\"Only integers are allowed\") \n",
    "except Exception as e:\n",
    "    print(e)"
   ]
  },
  {
   "cell_type": "code",
   "execution_count": null,
   "metadata": {},
   "outputs": [],
   "source": []
  }
 ],
 "metadata": {
  "kernelspec": {
   "display_name": "Python 3 (ipykernel)",
   "language": "python",
   "name": "python3"
  },
  "language_info": {
   "codemirror_mode": {
    "name": "ipython",
    "version": 3
   },
   "file_extension": ".py",
   "mimetype": "text/x-python",
   "name": "python",
   "nbconvert_exporter": "python",
   "pygments_lexer": "ipython3",
   "version": "3.9.7"
  },
  "toc-autonumbering": true,
  "toc-showcode": false,
  "toc-showmarkdowntxt": false,
  "toc-showtags": false
 },
 "nbformat": 4,
 "nbformat_minor": 4
}
